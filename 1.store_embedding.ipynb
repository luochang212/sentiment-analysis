{
 "cells": [
  {
   "cell_type": "markdown",
   "id": "28ae9328-822d-40ae-b13c-f94457669ef9",
   "metadata": {},
   "source": [
    "# 存储词向量\n",
    "\n",
    "用 word2vec 获取单词的词向量，然后用句子里单词的平均词向量代表句子。"
   ]
  },
  {
   "cell_type": "code",
   "execution_count": 1,
   "id": "3899e4a6-9654-471f-9fb1-1024c8392fcf",
   "metadata": {
    "execution": {
     "iopub.execute_input": "2024-07-01T14:04:04.058205Z",
     "iopub.status.busy": "2024-07-01T14:04:04.057575Z",
     "iopub.status.idle": "2024-07-01T14:04:07.629036Z",
     "shell.execute_reply": "2024-07-01T14:04:07.628040Z",
     "shell.execute_reply.started": "2024-07-01T14:04:04.058169Z"
    }
   },
   "outputs": [],
   "source": [
    "import re\n",
    "import collections\n",
    "import json\n",
    "import jieba\n",
    "import torch\n",
    "import numpy as np\n",
    "import pandas as pd\n",
    "from ast import literal_eval\n",
    "\n",
    "from gensim.models import Word2Vec\n",
    "from gensim.utils import simple_preprocess"
   ]
  },
  {
   "cell_type": "code",
   "execution_count": 2,
   "id": "6719e4a7-2624-4b57-85f9-faf3cf657aa7",
   "metadata": {
    "execution": {
     "iopub.execute_input": "2024-07-01T14:04:07.631476Z",
     "iopub.status.busy": "2024-07-01T14:04:07.630825Z",
     "iopub.status.idle": "2024-07-01T14:04:07.638163Z",
     "shell.execute_reply": "2024-07-01T14:04:07.635344Z",
     "shell.execute_reply.started": "2024-07-01T14:04:07.631440Z"
    }
   },
   "outputs": [],
   "source": [
    "CN_BOOK_PATH = './data/honglou.txt'\n",
    "CN_STOP_WORDS = './data/cn_stopwords.txt'\n",
    "DATAFILE_PATH = './data/embedding.csv'\n",
    "MIN_FREQ = 10"
   ]
  },
  {
   "cell_type": "code",
   "execution_count": 3,
   "id": "965ee7ef-7af8-44dd-9ada-5890928dc7b8",
   "metadata": {
    "execution": {
     "iopub.execute_input": "2024-07-01T14:04:07.643374Z",
     "iopub.status.busy": "2024-07-01T14:04:07.642965Z",
     "iopub.status.idle": "2024-07-01T14:04:07.651773Z",
     "shell.execute_reply": "2024-07-01T14:04:07.649209Z",
     "shell.execute_reply.started": "2024-07-01T14:04:07.643338Z"
    }
   },
   "outputs": [],
   "source": [
    "# 加载停用词\n",
    "def load_stop_words(stop_words_path):\n",
    "    with open(stop_words_path, 'r') as f:\n",
    "        stop_words = f.read()\n",
    "    return stop_words.split('\\n')"
   ]
  },
  {
   "cell_type": "markdown",
   "id": "dc1bdfcc-1b25-4157-917d-2b9c3aa24057",
   "metadata": {},
   "source": [
    "## 1. 对语料的一些预处理"
   ]
  },
  {
   "cell_type": "code",
   "execution_count": 4,
   "id": "b6693ef6-b291-4c68-96ce-d298cc5454fa",
   "metadata": {
    "execution": {
     "iopub.execute_input": "2024-07-01T14:04:07.653513Z",
     "iopub.status.busy": "2024-07-01T14:04:07.653204Z",
     "iopub.status.idle": "2024-07-01T14:04:07.663692Z",
     "shell.execute_reply": "2024-07-01T14:04:07.661832Z",
     "shell.execute_reply.started": "2024-07-01T14:04:07.653492Z"
    }
   },
   "outputs": [],
   "source": [
    "# 获取《红楼梦》中的句子\n",
    "def get_sentences(book_path, cn_stop_words_path):\n",
    "    with open(book_path, 'r') as f:\n",
    "        content = f.read()\n",
    "\n",
    "    # 删除 \\n \\u3000 \\u3000\n",
    "    pattern = re.compile(r'(\\n|\\u3000|\\u3000)', re.IGNORECASE)\n",
    "    content = pattern.sub('', content)\n",
    "    \n",
    "    # 加载中文停用词\n",
    "    cn_stop_words = load_stop_words(cn_stop_words_path)\n",
    "    \n",
    "    # 切分句子\n",
    "    sentences = re.split('。|！|？', content)\n",
    "    \n",
    "    # 去除停用词\n",
    "    return [\n",
    "        [word for word in jieba.cut(text) if word not in cn_stop_words]\n",
    "        for text in sentences\n",
    "    ]"
   ]
  },
  {
   "cell_type": "code",
   "execution_count": 5,
   "id": "c2d05f1f-1166-4748-b38a-c8f0864921a8",
   "metadata": {
    "execution": {
     "iopub.execute_input": "2024-07-01T14:04:07.666066Z",
     "iopub.status.busy": "2024-07-01T14:04:07.665321Z",
     "iopub.status.idle": "2024-07-01T14:04:16.896700Z",
     "shell.execute_reply": "2024-07-01T14:04:16.895966Z",
     "shell.execute_reply.started": "2024-07-01T14:04:07.666037Z"
    }
   },
   "outputs": [
    {
     "name": "stderr",
     "output_type": "stream",
     "text": [
      "Building prefix dict from the default dictionary ...\n",
      "Loading model from cache /var/folders/97/m67m_56s0dq5k20t3vp4_pgh0000gn/T/jieba.cache\n",
      "Loading model cost 0.612 seconds.\n",
      "Prefix dict has been built successfully.\n"
     ]
    },
    {
     "data": {
      "text/plain": [
       "35077"
      ]
     },
     "execution_count": 5,
     "metadata": {},
     "output_type": "execute_result"
    }
   ],
   "source": [
    "sentences = get_sentences(book_path=CN_BOOK_PATH,\n",
    "                       cn_stop_words_path=CN_STOP_WORDS)\n",
    "len(sentences)"
   ]
  },
  {
   "cell_type": "markdown",
   "id": "28c7e436-f23f-409a-845a-53012faa054d",
   "metadata": {
    "execution": {
     "iopub.execute_input": "2024-07-01T08:28:40.941922Z",
     "iopub.status.busy": "2024-07-01T08:28:40.941486Z",
     "iopub.status.idle": "2024-07-01T08:28:40.947003Z",
     "shell.execute_reply": "2024-07-01T08:28:40.946094Z",
     "shell.execute_reply.started": "2024-07-01T08:28:40.941891Z"
    }
   },
   "source": [
    "## 2. 获取词嵌入和句子嵌入"
   ]
  },
  {
   "cell_type": "code",
   "execution_count": 6,
   "id": "4b8aa993-7250-457b-be6c-bbb0d186df6f",
   "metadata": {
    "execution": {
     "iopub.execute_input": "2024-07-01T14:04:16.898667Z",
     "iopub.status.busy": "2024-07-01T14:04:16.898203Z",
     "iopub.status.idle": "2024-07-01T14:04:18.335188Z",
     "shell.execute_reply": "2024-07-01T14:04:18.333702Z",
     "shell.execute_reply.started": "2024-07-01T14:04:16.898620Z"
    }
   },
   "outputs": [
    {
     "data": {
      "text/plain": [
       "<gensim.models.word2vec.Word2Vec at 0x17a6ddf00>"
      ]
     },
     "execution_count": 6,
     "metadata": {},
     "output_type": "execute_result"
    }
   ],
   "source": [
    "cn_model = Word2Vec(sentences=sentences, vector_size=100, window=15, min_count=1, workers=4)\n",
    "cn_model"
   ]
  },
  {
   "cell_type": "code",
   "execution_count": 7,
   "id": "2a2d25a1-d752-4ea8-bf27-f115cf5c1a53",
   "metadata": {
    "execution": {
     "iopub.execute_input": "2024-07-01T14:04:18.336809Z",
     "iopub.status.busy": "2024-07-01T14:04:18.336422Z",
     "iopub.status.idle": "2024-07-01T14:04:18.343749Z",
     "shell.execute_reply": "2024-07-01T14:04:18.342337Z",
     "shell.execute_reply.started": "2024-07-01T14:04:18.336784Z"
    }
   },
   "outputs": [
    {
     "data": {
      "text/plain": [
       "array([ 0.07251878,  0.15770395,  0.11379204,  0.06604948, -0.15489732,\n",
       "       -0.29318848,  0.10615966,  0.40679982, -0.03119876, -0.06020098,\n",
       "        0.00895631, -0.23698795, -0.01784477,  0.13235734,  0.17417051,\n",
       "       -0.12999234,  0.12181527, -0.11276755, -0.18719095, -0.44675317,\n",
       "        0.16567987,  0.14572555,  0.18636416, -0.03581078,  0.05338819,\n",
       "       -0.04896234, -0.22351736, -0.00616824, -0.22950584,  0.03151248,\n",
       "        0.08740475,  0.06269028, -0.01241498, -0.15811025, -0.145261  ,\n",
       "        0.28001964,  0.02062484, -0.18381305, -0.16281833, -0.34243762,\n",
       "        0.11386459, -0.20567004, -0.11124558, -0.027125  ,  0.10988442,\n",
       "       -0.06218803, -0.19698441,  0.03841772,  0.01851665,  0.25603873,\n",
       "        0.09005591, -0.25230888, -0.15981318, -0.08463471, -0.22542712,\n",
       "        0.09570424, -0.00809338,  0.03964585, -0.14593245,  0.160187  ,\n",
       "       -0.02926883,  0.15132795, -0.18317954,  0.06496811, -0.19175184,\n",
       "        0.293342  ,  0.05851482,  0.1363457 , -0.26319325,  0.35317257,\n",
       "       -0.21191187,  0.06561168,  0.2231605 , -0.11945424,  0.31491363,\n",
       "        0.12031959,  0.21265164, -0.02402023, -0.27509984,  0.18764707,\n",
       "        0.02021153, -0.06550653, -0.09296065,  0.36677969, -0.0036548 ,\n",
       "        0.00336511, -0.07590123,  0.2460607 ,  0.29109696,  0.21113116,\n",
       "        0.24398427,  0.14622955, -0.02878303,  0.09555297,  0.3174958 ,\n",
       "        0.20229603,  0.15032455, -0.18348245, -0.02827831,  0.13491742],\n",
       "      dtype=float32)"
      ]
     },
     "execution_count": 7,
     "metadata": {},
     "output_type": "execute_result"
    }
   ],
   "source": [
    "# 获取词嵌入\n",
    "def get_word_embedding(word):\n",
    "    words = cn_model.wv\n",
    "    if word in words:\n",
    "        return words[word]\n",
    "    else:\n",
    "        return None\n",
    "\n",
    "get_word_embedding(word='林黛玉')"
   ]
  },
  {
   "cell_type": "code",
   "execution_count": 8,
   "id": "4506d4da-3fc6-44d7-900c-98559c71dba5",
   "metadata": {
    "execution": {
     "iopub.execute_input": "2024-07-01T14:04:18.346611Z",
     "iopub.status.busy": "2024-07-01T14:04:18.346090Z",
     "iopub.status.idle": "2024-07-01T14:04:18.351240Z",
     "shell.execute_reply": "2024-07-01T14:04:18.350515Z",
     "shell.execute_reply.started": "2024-07-01T14:04:18.346563Z"
    }
   },
   "outputs": [],
   "source": [
    "# 获取句子嵌入\n",
    "def get_sentence_embedding(sentence: list):\n",
    "    words = cn_model.wv\n",
    "    if all([word in words for word in sentence]):\n",
    "        return torch.Tensor([words[word].tolist() for word in sentence]).mean(dim=0).numpy()\n",
    "    else:\n",
    "        return None"
   ]
  },
  {
   "cell_type": "code",
   "execution_count": 9,
   "id": "ff64efc9-521f-45b3-ab5c-01688bf9d94e",
   "metadata": {
    "execution": {
     "iopub.execute_input": "2024-07-01T14:04:18.352916Z",
     "iopub.status.busy": "2024-07-01T14:04:18.352616Z",
     "iopub.status.idle": "2024-07-01T14:04:18.357479Z",
     "shell.execute_reply": "2024-07-01T14:04:18.356718Z",
     "shell.execute_reply.started": "2024-07-01T14:04:18.352893Z"
    }
   },
   "outputs": [
    {
     "data": {
      "text/plain": [
       "['但书中', '所记', '何事', '何人']"
      ]
     },
     "execution_count": 9,
     "metadata": {},
     "output_type": "execute_result"
    }
   ],
   "source": [
    "sentences[2]"
   ]
  },
  {
   "cell_type": "code",
   "execution_count": 10,
   "id": "d714b4f9-d6ce-40e5-b60d-0076b812b6bb",
   "metadata": {
    "execution": {
     "iopub.execute_input": "2024-07-01T14:04:18.358811Z",
     "iopub.status.busy": "2024-07-01T14:04:18.358384Z",
     "iopub.status.idle": "2024-07-01T14:04:18.368218Z",
     "shell.execute_reply": "2024-07-01T14:04:18.367189Z",
     "shell.execute_reply.started": "2024-07-01T14:04:18.358787Z"
    }
   },
   "outputs": [
    {
     "data": {
      "text/plain": [
       "array([ 0.037882  ,  0.07169044,  0.05131721,  0.03170025, -0.0725347 ,\n",
       "       -0.13424191,  0.04338332,  0.18211511, -0.02519005, -0.05061328,\n",
       "        0.01525364, -0.11491416, -0.01498895,  0.05756009,  0.06506534,\n",
       "       -0.05236512,  0.04888804, -0.05529148, -0.08138166, -0.19626214,\n",
       "        0.06844007,  0.06120624,  0.08241642, -0.01825217,  0.01898634,\n",
       "       -0.02958478, -0.08497117, -0.00987194, -0.10439227,  0.00978291,\n",
       "        0.04725308,  0.01796812,  0.00746861, -0.06670398, -0.05820407,\n",
       "        0.12952685, -0.00574111, -0.07867193, -0.07742932, -0.15093225,\n",
       "        0.05866503, -0.09438916, -0.0519472 , -0.00358284,  0.04341889,\n",
       "       -0.0457468 , -0.08929627,  0.02641489, -0.00192572,  0.11063823,\n",
       "        0.03389947, -0.11098844, -0.07778414, -0.034293  , -0.10359886,\n",
       "        0.04242608, -0.00479957,  0.02337768, -0.06247374,  0.07830533,\n",
       "       -0.02165234,  0.06178435, -0.06249453,  0.03456859, -0.08073604,\n",
       "        0.1255085 ,  0.01946511,  0.06318392, -0.12430546,  0.14829552,\n",
       "       -0.07820263,  0.0268554 ,  0.10333934, -0.04858417,  0.14564258,\n",
       "        0.05428113,  0.09691947, -0.0312318 , -0.1235407 ,  0.08828401,\n",
       "        0.00185481, -0.02872079, -0.04497498,  0.17402458, -0.02192186,\n",
       "       -0.00324513, -0.03041361,  0.11437452,  0.13673088,  0.0972783 ,\n",
       "        0.09208386,  0.05669823, -0.0120413 ,  0.05812206,  0.13849463,\n",
       "        0.08837315,  0.06615723, -0.08239955, -0.02507102,  0.06133578],\n",
       "      dtype=float32)"
      ]
     },
     "execution_count": 10,
     "metadata": {},
     "output_type": "execute_result"
    }
   ],
   "source": [
    "sentence_embedding = get_sentence_embedding(sentence=sentences[2])\n",
    "sentence_embedding"
   ]
  },
  {
   "cell_type": "markdown",
   "id": "f47d843e-5c74-425f-b416-62d5ca99f657",
   "metadata": {},
   "source": [
    "## 3. 将词嵌入存入 csv"
   ]
  },
  {
   "cell_type": "code",
   "execution_count": 11,
   "id": "b9d4bf3e-bd45-4eff-ab7d-830d00c21a11",
   "metadata": {
    "execution": {
     "iopub.execute_input": "2024-07-01T14:04:18.369579Z",
     "iopub.status.busy": "2024-07-01T14:04:18.369181Z",
     "iopub.status.idle": "2024-07-01T14:04:18.416815Z",
     "shell.execute_reply": "2024-07-01T14:04:18.415874Z",
     "shell.execute_reply.started": "2024-07-01T14:04:18.369556Z"
    }
   },
   "outputs": [
    {
     "data": {
      "text/plain": [
       "3234"
      ]
     },
     "execution_count": 11,
     "metadata": {},
     "output_type": "execute_result"
    }
   ],
   "source": [
    "# 计算词频\n",
    "corpus = [w for text in sentences for w in text]\n",
    "ctr = collections.Counter(corpus)\n",
    "\n",
    "# 过滤词频过低的词\n",
    "n_corpus = [k for k, v in ctr.items() if v > MIN_FREQ]\n",
    "len(n_corpus)"
   ]
  },
  {
   "cell_type": "code",
   "execution_count": 12,
   "id": "451c9b34-4261-4976-8246-4861526ff98d",
   "metadata": {
    "execution": {
     "iopub.execute_input": "2024-07-01T14:04:18.427494Z",
     "iopub.status.busy": "2024-07-01T14:04:18.427111Z",
     "iopub.status.idle": "2024-07-01T14:04:18.438491Z",
     "shell.execute_reply": "2024-07-01T14:04:18.437645Z",
     "shell.execute_reply.started": "2024-07-01T14:04:18.427471Z"
    }
   },
   "outputs": [
    {
     "data": {
      "text/plain": [
       "3234"
      ]
     },
     "execution_count": 12,
     "metadata": {},
     "output_type": "execute_result"
    }
   ],
   "source": [
    "# 获取每个词的 embedding\n",
    "ebd_dict = dict()\n",
    "for word in n_corpus:\n",
    "    ebd_dict[word] = get_word_embedding(word)\n",
    "\n",
    "len(ebd_dict)"
   ]
  },
  {
   "cell_type": "code",
   "execution_count": 13,
   "id": "6f26e13f-4ec3-46bb-9fcd-39b2050d14d2",
   "metadata": {
    "execution": {
     "iopub.execute_input": "2024-07-01T14:04:18.440004Z",
     "iopub.status.busy": "2024-07-01T14:04:18.439719Z",
     "iopub.status.idle": "2024-07-01T14:04:18.444636Z",
     "shell.execute_reply": "2024-07-01T14:04:18.443450Z",
     "shell.execute_reply.started": "2024-07-01T14:04:18.439954Z"
    }
   },
   "outputs": [],
   "source": [
    "# 将 embedding 存成字符串\n",
    "def ebd2str(embedding):\n",
    "    return json.dumps(embedding.tolist())"
   ]
  },
  {
   "cell_type": "code",
   "execution_count": 14,
   "id": "5da8878c-16ad-4af3-98a5-fd5f2bf0a691",
   "metadata": {
    "execution": {
     "iopub.execute_input": "2024-07-01T14:04:18.447038Z",
     "iopub.status.busy": "2024-07-01T14:04:18.446519Z",
     "iopub.status.idle": "2024-07-01T14:04:18.465436Z",
     "shell.execute_reply": "2024-07-01T14:04:18.464806Z",
     "shell.execute_reply.started": "2024-07-01T14:04:18.447012Z"
    }
   },
   "outputs": [
    {
     "data": {
      "text/html": [
       "<div>\n",
       "<style scoped>\n",
       "    .dataframe tbody tr th:only-of-type {\n",
       "        vertical-align: middle;\n",
       "    }\n",
       "\n",
       "    .dataframe tbody tr th {\n",
       "        vertical-align: top;\n",
       "    }\n",
       "\n",
       "    .dataframe thead th {\n",
       "        text-align: right;\n",
       "    }\n",
       "</style>\n",
       "<table border=\"1\" class=\"dataframe\">\n",
       "  <thead>\n",
       "    <tr style=\"text-align: right;\">\n",
       "      <th></th>\n",
       "      <th>word</th>\n",
       "      <th>embedding</th>\n",
       "    </tr>\n",
       "  </thead>\n",
       "  <tbody>\n",
       "    <tr>\n",
       "      <th>0</th>\n",
       "      <td>章</td>\n",
       "      <td>[0.24359591, 0.11027567, 0.9609027, -0.1914261...</td>\n",
       "    </tr>\n",
       "    <tr>\n",
       "      <th>1</th>\n",
       "      <td>贾雨村</td>\n",
       "      <td>[0.09581466, 0.12258382, 0.12087647, 0.0613169...</td>\n",
       "    </tr>\n",
       "    <tr>\n",
       "      <th>2</th>\n",
       "      <td>一番</td>\n",
       "      <td>[0.29162875, 0.5331246, 0.39700887, 0.24120261...</td>\n",
       "    </tr>\n",
       "    <tr>\n",
       "      <th>3</th>\n",
       "      <td>之后</td>\n",
       "      <td>[0.21557285, 0.37488845, 0.29100847, 0.1664445...</td>\n",
       "    </tr>\n",
       "    <tr>\n",
       "      <th>4</th>\n",
       "      <td>说</td>\n",
       "      <td>[0.56785476, 0.9324802, 0.5415122, 0.49521267,...</td>\n",
       "    </tr>\n",
       "    <tr>\n",
       "      <th>...</th>\n",
       "      <td>...</td>\n",
       "      <td>...</td>\n",
       "    </tr>\n",
       "    <tr>\n",
       "      <th>3229</th>\n",
       "      <td>腰门</td>\n",
       "      <td>[0.03943501, 0.06789011, 0.064401105, 0.037343...</td>\n",
       "    </tr>\n",
       "    <tr>\n",
       "      <th>3230</th>\n",
       "      <td>主上</td>\n",
       "      <td>[0.084934786, 0.028853638, 0.061858777, 0.0039...</td>\n",
       "    </tr>\n",
       "    <tr>\n",
       "      <th>3231</th>\n",
       "      <td>赵堂官</td>\n",
       "      <td>[0.041808877, 0.09019277, 0.051837936, 0.04455...</td>\n",
       "    </tr>\n",
       "    <tr>\n",
       "      <th>3232</th>\n",
       "      <td>甄宝玉</td>\n",
       "      <td>[0.10016797, 0.25801668, 0.14713632, 0.1226646...</td>\n",
       "    </tr>\n",
       "    <tr>\n",
       "      <th>3233</th>\n",
       "      <td>邢大舅</td>\n",
       "      <td>[0.024759818, 0.051733874, 0.041889437, 0.0339...</td>\n",
       "    </tr>\n",
       "  </tbody>\n",
       "</table>\n",
       "<p>3234 rows × 2 columns</p>\n",
       "</div>"
      ],
      "text/plain": [
       "     word                                          embedding\n",
       "0       章  [0.24359591, 0.11027567, 0.9609027, -0.1914261...\n",
       "1     贾雨村  [0.09581466, 0.12258382, 0.12087647, 0.0613169...\n",
       "2      一番  [0.29162875, 0.5331246, 0.39700887, 0.24120261...\n",
       "3      之后  [0.21557285, 0.37488845, 0.29100847, 0.1664445...\n",
       "4       说  [0.56785476, 0.9324802, 0.5415122, 0.49521267,...\n",
       "...   ...                                                ...\n",
       "3229   腰门  [0.03943501, 0.06789011, 0.064401105, 0.037343...\n",
       "3230   主上  [0.084934786, 0.028853638, 0.061858777, 0.0039...\n",
       "3231  赵堂官  [0.041808877, 0.09019277, 0.051837936, 0.04455...\n",
       "3232  甄宝玉  [0.10016797, 0.25801668, 0.14713632, 0.1226646...\n",
       "3233  邢大舅  [0.024759818, 0.051733874, 0.041889437, 0.0339...\n",
       "\n",
       "[3234 rows x 2 columns]"
      ]
     },
     "execution_count": 14,
     "metadata": {},
     "output_type": "execute_result"
    }
   ],
   "source": [
    "data = {\n",
    "    'word': ebd_dict.keys(),\n",
    "    'embedding': ebd_dict.values(),\n",
    "}\n",
    "\n",
    "df = pd.DataFrame(data)\n",
    "df"
   ]
  },
  {
   "cell_type": "code",
   "execution_count": 15,
   "id": "f080defa-4feb-4863-9a31-be13bd3591c8",
   "metadata": {
    "execution": {
     "iopub.execute_input": "2024-07-01T14:04:18.466966Z",
     "iopub.status.busy": "2024-07-01T14:04:18.466409Z",
     "iopub.status.idle": "2024-07-01T14:04:18.677162Z",
     "shell.execute_reply": "2024-07-01T14:04:18.676353Z",
     "shell.execute_reply.started": "2024-07-01T14:04:18.466943Z"
    }
   },
   "outputs": [],
   "source": [
    "# 将 embedding 列里的所有 embedding 转成 str\n",
    "df['embedding'] = df['embedding'].apply(ebd2str)"
   ]
  },
  {
   "cell_type": "code",
   "execution_count": 16,
   "id": "672d9138-58a2-4286-9127-30f7ace95cd1",
   "metadata": {
    "execution": {
     "iopub.execute_input": "2024-07-01T14:04:18.678901Z",
     "iopub.status.busy": "2024-07-01T14:04:18.678398Z",
     "iopub.status.idle": "2024-07-01T14:04:18.685954Z",
     "shell.execute_reply": "2024-07-01T14:04:18.685025Z",
     "shell.execute_reply.started": "2024-07-01T14:04:18.678882Z"
    }
   },
   "outputs": [
    {
     "data": {
      "text/plain": [
       "str"
      ]
     },
     "execution_count": 16,
     "metadata": {},
     "output_type": "execute_result"
    }
   ],
   "source": [
    "# 验证一下是不是转成 str 了\n",
    "ebd = df[df['word'] == '林黛玉']['embedding'].iloc[0]\n",
    "type(ebd)"
   ]
  },
  {
   "cell_type": "code",
   "execution_count": 17,
   "id": "8d44c442-f25c-4d12-b409-895f4b59b20e",
   "metadata": {
    "execution": {
     "iopub.execute_input": "2024-07-01T14:04:18.687428Z",
     "iopub.status.busy": "2024-07-01T14:04:18.686960Z",
     "iopub.status.idle": "2024-07-01T14:04:18.857709Z",
     "shell.execute_reply": "2024-07-01T14:04:18.856540Z",
     "shell.execute_reply.started": "2024-07-01T14:04:18.687405Z"
    }
   },
   "outputs": [],
   "source": [
    "df.to_csv(DATAFILE_PATH, index=False)"
   ]
  },
  {
   "cell_type": "markdown",
   "id": "169e745f-3a0d-4c3a-8baa-232362caf412",
   "metadata": {},
   "source": [
    "## 4. 从 csv 中读取词嵌入"
   ]
  },
  {
   "cell_type": "code",
   "execution_count": 18,
   "id": "1ae4dbe0-e003-4e73-baa7-686b6d508898",
   "metadata": {
    "execution": {
     "iopub.execute_input": "2024-07-01T14:04:18.859716Z",
     "iopub.status.busy": "2024-07-01T14:04:18.859353Z",
     "iopub.status.idle": "2024-07-01T14:04:18.935950Z",
     "shell.execute_reply": "2024-07-01T14:04:18.934714Z",
     "shell.execute_reply.started": "2024-07-01T14:04:18.859690Z"
    }
   },
   "outputs": [],
   "source": [
    "rdf = pd.read_csv(DATAFILE_PATH)\n",
    "# rdf"
   ]
  },
  {
   "cell_type": "code",
   "execution_count": 19,
   "id": "f7f3a87c-d030-487f-b63b-51b60d875ad6",
   "metadata": {
    "execution": {
     "iopub.execute_input": "2024-07-01T14:04:18.937212Z",
     "iopub.status.busy": "2024-07-01T14:04:18.936871Z",
     "iopub.status.idle": "2024-07-01T14:04:19.864146Z",
     "shell.execute_reply": "2024-07-01T14:04:19.863192Z",
     "shell.execute_reply.started": "2024-07-01T14:04:18.937190Z"
    }
   },
   "outputs": [
    {
     "data": {
      "text/html": [
       "<div>\n",
       "<style scoped>\n",
       "    .dataframe tbody tr th:only-of-type {\n",
       "        vertical-align: middle;\n",
       "    }\n",
       "\n",
       "    .dataframe tbody tr th {\n",
       "        vertical-align: top;\n",
       "    }\n",
       "\n",
       "    .dataframe thead th {\n",
       "        text-align: right;\n",
       "    }\n",
       "</style>\n",
       "<table border=\"1\" class=\"dataframe\">\n",
       "  <thead>\n",
       "    <tr style=\"text-align: right;\">\n",
       "      <th></th>\n",
       "      <th>word</th>\n",
       "      <th>embedding</th>\n",
       "    </tr>\n",
       "  </thead>\n",
       "  <tbody>\n",
       "    <tr>\n",
       "      <th>0</th>\n",
       "      <td>章</td>\n",
       "      <td>[0.2435959130525589, 0.11027567088603973, 0.96...</td>\n",
       "    </tr>\n",
       "    <tr>\n",
       "      <th>1</th>\n",
       "      <td>贾雨村</td>\n",
       "      <td>[0.09581466019153595, 0.12258382141590118, 0.1...</td>\n",
       "    </tr>\n",
       "    <tr>\n",
       "      <th>2</th>\n",
       "      <td>一番</td>\n",
       "      <td>[0.29162874817848206, 0.5331246256828308, 0.39...</td>\n",
       "    </tr>\n",
       "    <tr>\n",
       "      <th>3</th>\n",
       "      <td>之后</td>\n",
       "      <td>[0.21557284891605377, 0.37488844990730286, 0.2...</td>\n",
       "    </tr>\n",
       "    <tr>\n",
       "      <th>4</th>\n",
       "      <td>说</td>\n",
       "      <td>[0.5678547620773315, 0.9324802160263062, 0.541...</td>\n",
       "    </tr>\n",
       "    <tr>\n",
       "      <th>...</th>\n",
       "      <td>...</td>\n",
       "      <td>...</td>\n",
       "    </tr>\n",
       "    <tr>\n",
       "      <th>3229</th>\n",
       "      <td>腰门</td>\n",
       "      <td>[0.0394350104033947, 0.06789010763168335, 0.06...</td>\n",
       "    </tr>\n",
       "    <tr>\n",
       "      <th>3230</th>\n",
       "      <td>主上</td>\n",
       "      <td>[0.0849347859621048, 0.028853638097643852, 0.0...</td>\n",
       "    </tr>\n",
       "    <tr>\n",
       "      <th>3231</th>\n",
       "      <td>赵堂官</td>\n",
       "      <td>[0.041808877140283585, 0.0901927724480629, 0.0...</td>\n",
       "    </tr>\n",
       "    <tr>\n",
       "      <th>3232</th>\n",
       "      <td>甄宝玉</td>\n",
       "      <td>[0.10016796737909317, 0.2580166757106781, 0.14...</td>\n",
       "    </tr>\n",
       "    <tr>\n",
       "      <th>3233</th>\n",
       "      <td>邢大舅</td>\n",
       "      <td>[0.024759817868471146, 0.051733873784542084, 0...</td>\n",
       "    </tr>\n",
       "  </tbody>\n",
       "</table>\n",
       "<p>3234 rows × 2 columns</p>\n",
       "</div>"
      ],
      "text/plain": [
       "     word                                          embedding\n",
       "0       章  [0.2435959130525589, 0.11027567088603973, 0.96...\n",
       "1     贾雨村  [0.09581466019153595, 0.12258382141590118, 0.1...\n",
       "2      一番  [0.29162874817848206, 0.5331246256828308, 0.39...\n",
       "3      之后  [0.21557284891605377, 0.37488844990730286, 0.2...\n",
       "4       说  [0.5678547620773315, 0.9324802160263062, 0.541...\n",
       "...   ...                                                ...\n",
       "3229   腰门  [0.0394350104033947, 0.06789010763168335, 0.06...\n",
       "3230   主上  [0.0849347859621048, 0.028853638097643852, 0.0...\n",
       "3231  赵堂官  [0.041808877140283585, 0.0901927724480629, 0.0...\n",
       "3232  甄宝玉  [0.10016796737909317, 0.2580166757106781, 0.14...\n",
       "3233  邢大舅  [0.024759817868471146, 0.051733873784542084, 0...\n",
       "\n",
       "[3234 rows x 2 columns]"
      ]
     },
     "execution_count": 19,
     "metadata": {},
     "output_type": "execute_result"
    }
   ],
   "source": [
    "rdf.embedding = rdf.embedding.apply(literal_eval).apply(lambda e: np.array(e))\n",
    "rdf"
   ]
  },
  {
   "cell_type": "code",
   "execution_count": 20,
   "id": "26b1ffff-421a-470c-9d64-62104de2be88",
   "metadata": {
    "execution": {
     "iopub.execute_input": "2024-07-01T14:04:19.865802Z",
     "iopub.status.busy": "2024-07-01T14:04:19.865361Z",
     "iopub.status.idle": "2024-07-01T14:04:19.872121Z",
     "shell.execute_reply": "2024-07-01T14:04:19.870856Z",
     "shell.execute_reply.started": "2024-07-01T14:04:19.865781Z"
    }
   },
   "outputs": [
    {
     "data": {
      "text/plain": [
       "numpy.ndarray"
      ]
     },
     "execution_count": 20,
     "metadata": {},
     "output_type": "execute_result"
    }
   ],
   "source": [
    "type(rdf.iloc[0]['embedding'])"
   ]
  },
  {
   "cell_type": "markdown",
   "id": "ed44dd9d-5552-4d7f-a027-4f617834ffa0",
   "metadata": {},
   "source": [
    "## 5. 整合成函数\n",
    "\n",
    "将以上功能整合成一个函数，并写入 `util.py`"
   ]
  },
  {
   "cell_type": "code",
   "execution_count": 21,
   "id": "6a7f0c70-961c-4b16-baa4-d81207a165fa",
   "metadata": {
    "execution": {
     "iopub.execute_input": "2024-07-01T14:04:19.873731Z",
     "iopub.status.busy": "2024-07-01T14:04:19.873254Z",
     "iopub.status.idle": "2024-07-01T14:04:19.889796Z",
     "shell.execute_reply": "2024-07-01T14:04:19.889120Z",
     "shell.execute_reply.started": "2024-07-01T14:04:19.873709Z"
    }
   },
   "outputs": [
    {
     "data": {
      "text/html": [
       "<div>\n",
       "<style scoped>\n",
       "    .dataframe tbody tr th:only-of-type {\n",
       "        vertical-align: middle;\n",
       "    }\n",
       "\n",
       "    .dataframe tbody tr th {\n",
       "        vertical-align: top;\n",
       "    }\n",
       "\n",
       "    .dataframe thead th {\n",
       "        text-align: right;\n",
       "    }\n",
       "</style>\n",
       "<table border=\"1\" class=\"dataframe\">\n",
       "  <thead>\n",
       "    <tr style=\"text-align: right;\">\n",
       "      <th></th>\n",
       "      <th>word</th>\n",
       "      <th>embedding</th>\n",
       "    </tr>\n",
       "  </thead>\n",
       "  <tbody>\n",
       "    <tr>\n",
       "      <th>0</th>\n",
       "      <td>章</td>\n",
       "      <td>[0.24359591, 0.11027567, 0.9609027, -0.1914261...</td>\n",
       "    </tr>\n",
       "    <tr>\n",
       "      <th>1</th>\n",
       "      <td>贾雨村</td>\n",
       "      <td>[0.09581466, 0.12258382, 0.12087647, 0.0613169...</td>\n",
       "    </tr>\n",
       "    <tr>\n",
       "      <th>2</th>\n",
       "      <td>一番</td>\n",
       "      <td>[0.29162875, 0.5331246, 0.39700887, 0.24120261...</td>\n",
       "    </tr>\n",
       "    <tr>\n",
       "      <th>3</th>\n",
       "      <td>之后</td>\n",
       "      <td>[0.21557285, 0.37488845, 0.29100847, 0.1664445...</td>\n",
       "    </tr>\n",
       "    <tr>\n",
       "      <th>4</th>\n",
       "      <td>说</td>\n",
       "      <td>[0.56785476, 0.9324802, 0.5415122, 0.49521267,...</td>\n",
       "    </tr>\n",
       "    <tr>\n",
       "      <th>...</th>\n",
       "      <td>...</td>\n",
       "      <td>...</td>\n",
       "    </tr>\n",
       "    <tr>\n",
       "      <th>3229</th>\n",
       "      <td>腰门</td>\n",
       "      <td>[0.03943501, 0.06789011, 0.064401105, 0.037343...</td>\n",
       "    </tr>\n",
       "    <tr>\n",
       "      <th>3230</th>\n",
       "      <td>主上</td>\n",
       "      <td>[0.084934786, 0.028853638, 0.061858777, 0.0039...</td>\n",
       "    </tr>\n",
       "    <tr>\n",
       "      <th>3231</th>\n",
       "      <td>赵堂官</td>\n",
       "      <td>[0.041808877, 0.09019277, 0.051837936, 0.04455...</td>\n",
       "    </tr>\n",
       "    <tr>\n",
       "      <th>3232</th>\n",
       "      <td>甄宝玉</td>\n",
       "      <td>[0.10016797, 0.25801668, 0.14713632, 0.1226646...</td>\n",
       "    </tr>\n",
       "    <tr>\n",
       "      <th>3233</th>\n",
       "      <td>邢大舅</td>\n",
       "      <td>[0.024759818, 0.051733874, 0.041889437, 0.0339...</td>\n",
       "    </tr>\n",
       "  </tbody>\n",
       "</table>\n",
       "<p>3234 rows × 2 columns</p>\n",
       "</div>"
      ],
      "text/plain": [
       "     word                                          embedding\n",
       "0       章  [0.24359591, 0.11027567, 0.9609027, -0.1914261...\n",
       "1     贾雨村  [0.09581466, 0.12258382, 0.12087647, 0.0613169...\n",
       "2      一番  [0.29162875, 0.5331246, 0.39700887, 0.24120261...\n",
       "3      之后  [0.21557285, 0.37488845, 0.29100847, 0.1664445...\n",
       "4       说  [0.56785476, 0.9324802, 0.5415122, 0.49521267,...\n",
       "...   ...                                                ...\n",
       "3229   腰门  [0.03943501, 0.06789011, 0.064401105, 0.037343...\n",
       "3230   主上  [0.084934786, 0.028853638, 0.061858777, 0.0039...\n",
       "3231  赵堂官  [0.041808877, 0.09019277, 0.051837936, 0.04455...\n",
       "3232  甄宝玉  [0.10016797, 0.25801668, 0.14713632, 0.1226646...\n",
       "3233  邢大舅  [0.024759818, 0.051733874, 0.041889437, 0.0339...\n",
       "\n",
       "[3234 rows x 2 columns]"
      ]
     },
     "execution_count": 21,
     "metadata": {},
     "output_type": "execute_result"
    }
   ],
   "source": [
    "# 假设名为 embedding 的列，被用来存储词向量\n",
    "data = {\n",
    "    'word': ebd_dict.keys(),\n",
    "    'embedding': ebd_dict.values(),\n",
    "}\n",
    "\n",
    "df = pd.DataFrame(data)\n",
    "df"
   ]
  },
  {
   "cell_type": "code",
   "execution_count": 22,
   "id": "16c8ef9a-bfbd-43c1-8377-eac0d8148b99",
   "metadata": {
    "execution": {
     "iopub.execute_input": "2024-07-01T14:04:19.890954Z",
     "iopub.status.busy": "2024-07-01T14:04:19.890570Z",
     "iopub.status.idle": "2024-07-01T14:04:19.895881Z",
     "shell.execute_reply": "2024-07-01T14:04:19.895053Z",
     "shell.execute_reply.started": "2024-07-01T14:04:19.890930Z"
    }
   },
   "outputs": [],
   "source": [
    "# 参数 ebd_cols 定义哪些列存了 embedding\n",
    "def embedding_df_to_csv(df, csv_path, ebd_cols: list):\n",
    "    \"\"\"将带有 embedding 的 DataFrame 存入 csv\"\"\"\n",
    "    def ebd2str(embedding):\n",
    "        if not isinstance(embedding, list):\n",
    "            ebd = embedding.tolist()\n",
    "        return json.dumps(ebd)\n",
    "\n",
    "    for col in ebd_cols:\n",
    "        df[col] = df[col].apply(ebd2str)\n",
    "\n",
    "    df.to_csv(csv_path, index=False)"
   ]
  },
  {
   "cell_type": "code",
   "execution_count": 23,
   "id": "86860d7c-e1cf-4c07-a121-c5b301362480",
   "metadata": {
    "execution": {
     "iopub.execute_input": "2024-07-01T14:04:19.897532Z",
     "iopub.status.busy": "2024-07-01T14:04:19.897024Z",
     "iopub.status.idle": "2024-07-01T14:04:20.264442Z",
     "shell.execute_reply": "2024-07-01T14:04:20.263316Z",
     "shell.execute_reply.started": "2024-07-01T14:04:19.897504Z"
    }
   },
   "outputs": [],
   "source": [
    "embedding_df_to_csv(df,\n",
    "                    csv_path=DATAFILE_PATH,\n",
    "                    ebd_cols=['embedding'])"
   ]
  },
  {
   "cell_type": "code",
   "execution_count": 24,
   "id": "b12e19c2-52c8-4e9b-9eb1-cf06f196c0fb",
   "metadata": {
    "execution": {
     "iopub.execute_input": "2024-07-01T14:04:20.266160Z",
     "iopub.status.busy": "2024-07-01T14:04:20.265694Z",
     "iopub.status.idle": "2024-07-01T14:04:20.271529Z",
     "shell.execute_reply": "2024-07-01T14:04:20.270586Z",
     "shell.execute_reply.started": "2024-07-01T14:04:20.266141Z"
    }
   },
   "outputs": [],
   "source": [
    "def read_embedding_csv(csv_path, ebd_cols: list):\n",
    "    \"\"\"将带有 embedding 的 csv 读入 DataFrame\"\"\"\n",
    "    df = pd.read_csv(csv_path)\n",
    "    for col in ebd_cols:\n",
    "        df[col] = df[col].apply(literal_eval).apply(lambda e: np.array(e))\n",
    "\n",
    "    return df"
   ]
  },
  {
   "cell_type": "code",
   "execution_count": 25,
   "id": "69d0c525-de8f-4f20-b1d2-fd30c552dce4",
   "metadata": {
    "execution": {
     "iopub.execute_input": "2024-07-01T14:04:20.273459Z",
     "iopub.status.busy": "2024-07-01T14:04:20.273033Z",
     "iopub.status.idle": "2024-07-01T14:04:21.139458Z",
     "shell.execute_reply": "2024-07-01T14:04:21.138341Z",
     "shell.execute_reply.started": "2024-07-01T14:04:20.273412Z"
    }
   },
   "outputs": [
    {
     "data": {
      "text/html": [
       "<div>\n",
       "<style scoped>\n",
       "    .dataframe tbody tr th:only-of-type {\n",
       "        vertical-align: middle;\n",
       "    }\n",
       "\n",
       "    .dataframe tbody tr th {\n",
       "        vertical-align: top;\n",
       "    }\n",
       "\n",
       "    .dataframe thead th {\n",
       "        text-align: right;\n",
       "    }\n",
       "</style>\n",
       "<table border=\"1\" class=\"dataframe\">\n",
       "  <thead>\n",
       "    <tr style=\"text-align: right;\">\n",
       "      <th></th>\n",
       "      <th>word</th>\n",
       "      <th>embedding</th>\n",
       "    </tr>\n",
       "  </thead>\n",
       "  <tbody>\n",
       "    <tr>\n",
       "      <th>0</th>\n",
       "      <td>章</td>\n",
       "      <td>[0.2435959130525589, 0.11027567088603973, 0.96...</td>\n",
       "    </tr>\n",
       "    <tr>\n",
       "      <th>1</th>\n",
       "      <td>贾雨村</td>\n",
       "      <td>[0.09581466019153595, 0.12258382141590118, 0.1...</td>\n",
       "    </tr>\n",
       "    <tr>\n",
       "      <th>2</th>\n",
       "      <td>一番</td>\n",
       "      <td>[0.29162874817848206, 0.5331246256828308, 0.39...</td>\n",
       "    </tr>\n",
       "    <tr>\n",
       "      <th>3</th>\n",
       "      <td>之后</td>\n",
       "      <td>[0.21557284891605377, 0.37488844990730286, 0.2...</td>\n",
       "    </tr>\n",
       "    <tr>\n",
       "      <th>4</th>\n",
       "      <td>说</td>\n",
       "      <td>[0.5678547620773315, 0.9324802160263062, 0.541...</td>\n",
       "    </tr>\n",
       "    <tr>\n",
       "      <th>...</th>\n",
       "      <td>...</td>\n",
       "      <td>...</td>\n",
       "    </tr>\n",
       "    <tr>\n",
       "      <th>3229</th>\n",
       "      <td>腰门</td>\n",
       "      <td>[0.0394350104033947, 0.06789010763168335, 0.06...</td>\n",
       "    </tr>\n",
       "    <tr>\n",
       "      <th>3230</th>\n",
       "      <td>主上</td>\n",
       "      <td>[0.0849347859621048, 0.028853638097643852, 0.0...</td>\n",
       "    </tr>\n",
       "    <tr>\n",
       "      <th>3231</th>\n",
       "      <td>赵堂官</td>\n",
       "      <td>[0.041808877140283585, 0.0901927724480629, 0.0...</td>\n",
       "    </tr>\n",
       "    <tr>\n",
       "      <th>3232</th>\n",
       "      <td>甄宝玉</td>\n",
       "      <td>[0.10016796737909317, 0.2580166757106781, 0.14...</td>\n",
       "    </tr>\n",
       "    <tr>\n",
       "      <th>3233</th>\n",
       "      <td>邢大舅</td>\n",
       "      <td>[0.024759817868471146, 0.051733873784542084, 0...</td>\n",
       "    </tr>\n",
       "  </tbody>\n",
       "</table>\n",
       "<p>3234 rows × 2 columns</p>\n",
       "</div>"
      ],
      "text/plain": [
       "     word                                          embedding\n",
       "0       章  [0.2435959130525589, 0.11027567088603973, 0.96...\n",
       "1     贾雨村  [0.09581466019153595, 0.12258382141590118, 0.1...\n",
       "2      一番  [0.29162874817848206, 0.5331246256828308, 0.39...\n",
       "3      之后  [0.21557284891605377, 0.37488844990730286, 0.2...\n",
       "4       说  [0.5678547620773315, 0.9324802160263062, 0.541...\n",
       "...   ...                                                ...\n",
       "3229   腰门  [0.0394350104033947, 0.06789010763168335, 0.06...\n",
       "3230   主上  [0.0849347859621048, 0.028853638097643852, 0.0...\n",
       "3231  赵堂官  [0.041808877140283585, 0.0901927724480629, 0.0...\n",
       "3232  甄宝玉  [0.10016796737909317, 0.2580166757106781, 0.14...\n",
       "3233  邢大舅  [0.024759817868471146, 0.051733873784542084, 0...\n",
       "\n",
       "[3234 rows x 2 columns]"
      ]
     },
     "execution_count": 25,
     "metadata": {},
     "output_type": "execute_result"
    }
   ],
   "source": [
    "read_embedding_csv(csv_path=DATAFILE_PATH,\n",
    "                   ebd_cols=['embedding'])"
   ]
  },
  {
   "cell_type": "markdown",
   "id": "8b4a63f8-37d1-4250-9560-7e7f8e7c50dd",
   "metadata": {},
   "source": [
    "试着用 `util.py` 来使用"
   ]
  },
  {
   "cell_type": "code",
   "execution_count": 26,
   "id": "0b3b2d36-bcb1-430d-8dad-d022baf67ead",
   "metadata": {
    "execution": {
     "iopub.execute_input": "2024-07-01T14:04:21.141113Z",
     "iopub.status.busy": "2024-07-01T14:04:21.140819Z",
     "iopub.status.idle": "2024-07-01T14:04:21.146024Z",
     "shell.execute_reply": "2024-07-01T14:04:21.145399Z",
     "shell.execute_reply.started": "2024-07-01T14:04:21.141092Z"
    }
   },
   "outputs": [],
   "source": [
    "import util"
   ]
  },
  {
   "cell_type": "code",
   "execution_count": 27,
   "id": "5afc39fb-811b-48e7-86f6-0162d21a8d4a",
   "metadata": {
    "execution": {
     "iopub.execute_input": "2024-07-01T14:04:21.147327Z",
     "iopub.status.busy": "2024-07-01T14:04:21.146886Z",
     "iopub.status.idle": "2024-07-01T14:04:21.153682Z",
     "shell.execute_reply": "2024-07-01T14:04:21.152665Z",
     "shell.execute_reply.started": "2024-07-01T14:04:21.147295Z"
    }
   },
   "outputs": [],
   "source": [
    "data = {\n",
    "    'word': ebd_dict.keys(),\n",
    "    'embedding': ebd_dict.values(),\n",
    "}\n",
    "\n",
    "df = pd.DataFrame(data)\n",
    "# df"
   ]
  },
  {
   "cell_type": "code",
   "execution_count": 28,
   "id": "a2d63484-d0ea-44b3-acdb-a1a097e497b2",
   "metadata": {
    "execution": {
     "iopub.execute_input": "2024-07-01T14:04:21.155328Z",
     "iopub.status.busy": "2024-07-01T14:04:21.154847Z",
     "iopub.status.idle": "2024-07-01T14:04:21.523097Z",
     "shell.execute_reply": "2024-07-01T14:04:21.521884Z",
     "shell.execute_reply.started": "2024-07-01T14:04:21.155298Z"
    }
   },
   "outputs": [],
   "source": [
    "util.embedding_df_to_csv(df,\n",
    "                         csv_path=DATAFILE_PATH,\n",
    "                         ebd_cols=['embedding'])"
   ]
  },
  {
   "cell_type": "code",
   "execution_count": 29,
   "id": "d10cb25f-691a-406c-bfa1-6548f6928bc8",
   "metadata": {
    "execution": {
     "iopub.execute_input": "2024-07-01T14:04:21.524971Z",
     "iopub.status.busy": "2024-07-01T14:04:21.524351Z",
     "iopub.status.idle": "2024-07-01T14:04:22.440123Z",
     "shell.execute_reply": "2024-07-01T14:04:22.438976Z",
     "shell.execute_reply.started": "2024-07-01T14:04:21.524949Z"
    }
   },
   "outputs": [
    {
     "data": {
      "text/html": [
       "<div>\n",
       "<style scoped>\n",
       "    .dataframe tbody tr th:only-of-type {\n",
       "        vertical-align: middle;\n",
       "    }\n",
       "\n",
       "    .dataframe tbody tr th {\n",
       "        vertical-align: top;\n",
       "    }\n",
       "\n",
       "    .dataframe thead th {\n",
       "        text-align: right;\n",
       "    }\n",
       "</style>\n",
       "<table border=\"1\" class=\"dataframe\">\n",
       "  <thead>\n",
       "    <tr style=\"text-align: right;\">\n",
       "      <th></th>\n",
       "      <th>word</th>\n",
       "      <th>embedding</th>\n",
       "    </tr>\n",
       "  </thead>\n",
       "  <tbody>\n",
       "    <tr>\n",
       "      <th>0</th>\n",
       "      <td>章</td>\n",
       "      <td>[0.2435959130525589, 0.11027567088603973, 0.96...</td>\n",
       "    </tr>\n",
       "    <tr>\n",
       "      <th>1</th>\n",
       "      <td>贾雨村</td>\n",
       "      <td>[0.09581466019153595, 0.12258382141590118, 0.1...</td>\n",
       "    </tr>\n",
       "    <tr>\n",
       "      <th>2</th>\n",
       "      <td>一番</td>\n",
       "      <td>[0.29162874817848206, 0.5331246256828308, 0.39...</td>\n",
       "    </tr>\n",
       "    <tr>\n",
       "      <th>3</th>\n",
       "      <td>之后</td>\n",
       "      <td>[0.21557284891605377, 0.37488844990730286, 0.2...</td>\n",
       "    </tr>\n",
       "    <tr>\n",
       "      <th>4</th>\n",
       "      <td>说</td>\n",
       "      <td>[0.5678547620773315, 0.9324802160263062, 0.541...</td>\n",
       "    </tr>\n",
       "    <tr>\n",
       "      <th>...</th>\n",
       "      <td>...</td>\n",
       "      <td>...</td>\n",
       "    </tr>\n",
       "    <tr>\n",
       "      <th>3229</th>\n",
       "      <td>腰门</td>\n",
       "      <td>[0.0394350104033947, 0.06789010763168335, 0.06...</td>\n",
       "    </tr>\n",
       "    <tr>\n",
       "      <th>3230</th>\n",
       "      <td>主上</td>\n",
       "      <td>[0.0849347859621048, 0.028853638097643852, 0.0...</td>\n",
       "    </tr>\n",
       "    <tr>\n",
       "      <th>3231</th>\n",
       "      <td>赵堂官</td>\n",
       "      <td>[0.041808877140283585, 0.0901927724480629, 0.0...</td>\n",
       "    </tr>\n",
       "    <tr>\n",
       "      <th>3232</th>\n",
       "      <td>甄宝玉</td>\n",
       "      <td>[0.10016796737909317, 0.2580166757106781, 0.14...</td>\n",
       "    </tr>\n",
       "    <tr>\n",
       "      <th>3233</th>\n",
       "      <td>邢大舅</td>\n",
       "      <td>[0.024759817868471146, 0.051733873784542084, 0...</td>\n",
       "    </tr>\n",
       "  </tbody>\n",
       "</table>\n",
       "<p>3234 rows × 2 columns</p>\n",
       "</div>"
      ],
      "text/plain": [
       "     word                                          embedding\n",
       "0       章  [0.2435959130525589, 0.11027567088603973, 0.96...\n",
       "1     贾雨村  [0.09581466019153595, 0.12258382141590118, 0.1...\n",
       "2      一番  [0.29162874817848206, 0.5331246256828308, 0.39...\n",
       "3      之后  [0.21557284891605377, 0.37488844990730286, 0.2...\n",
       "4       说  [0.5678547620773315, 0.9324802160263062, 0.541...\n",
       "...   ...                                                ...\n",
       "3229   腰门  [0.0394350104033947, 0.06789010763168335, 0.06...\n",
       "3230   主上  [0.0849347859621048, 0.028853638097643852, 0.0...\n",
       "3231  赵堂官  [0.041808877140283585, 0.0901927724480629, 0.0...\n",
       "3232  甄宝玉  [0.10016796737909317, 0.2580166757106781, 0.14...\n",
       "3233  邢大舅  [0.024759817868471146, 0.051733873784542084, 0...\n",
       "\n",
       "[3234 rows x 2 columns]"
      ]
     },
     "execution_count": 29,
     "metadata": {},
     "output_type": "execute_result"
    }
   ],
   "source": [
    "util.read_embedding_csv(csv_path=DATAFILE_PATH,\n",
    "                        ebd_cols=['embedding'])"
   ]
  },
  {
   "cell_type": "code",
   "execution_count": null,
   "id": "983f0db8-326b-4dd0-8deb-51f58ba00b65",
   "metadata": {},
   "outputs": [],
   "source": []
  }
 ],
 "metadata": {
  "kernelspec": {
   "display_name": "Python 3 (ipykernel)",
   "language": "python",
   "name": "python3"
  },
  "language_info": {
   "codemirror_mode": {
    "name": "ipython",
    "version": 3
   },
   "file_extension": ".py",
   "mimetype": "text/x-python",
   "name": "python",
   "nbconvert_exporter": "python",
   "pygments_lexer": "ipython3",
   "version": "3.10.14"
  }
 },
 "nbformat": 4,
 "nbformat_minor": 5
}
