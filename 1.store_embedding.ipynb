{
 "cells": [
  {
   "cell_type": "markdown",
   "id": "28ae9328-822d-40ae-b13c-f94457669ef9",
   "metadata": {},
   "source": [
    "# 存储词向量\n",
    "\n",
    "用 word2vec 获取单词的词向量，然后用句子里单词的平均词向量代表句子。"
   ]
  },
  {
   "cell_type": "code",
   "execution_count": 1,
   "id": "3899e4a6-9654-471f-9fb1-1024c8392fcf",
   "metadata": {},
   "outputs": [],
   "source": [
    "import re\n",
    "import collections\n",
    "import json\n",
    "import jieba\n",
    "import torch\n",
    "import numpy as np\n",
    "import pandas as pd\n",
    "from ast import literal_eval\n",
    "\n",
    "from gensim.models import Word2Vec\n",
    "from gensim.utils import simple_preprocess"
   ]
  },
  {
   "cell_type": "code",
   "execution_count": 2,
   "id": "6719e4a7-2624-4b57-85f9-faf3cf657aa7",
   "metadata": {},
   "outputs": [],
   "source": [
    "CN_BOOK_PATH = './data/honglou.txt'\n",
    "CN_STOP_WORDS = './data/cn_stopwords.txt'\n",
    "DATAFILE_PATH = './data/embedding.csv'\n",
    "MIN_FREQ = 10"
   ]
  },
  {
   "cell_type": "code",
   "execution_count": 3,
   "id": "965ee7ef-7af8-44dd-9ada-5890928dc7b8",
   "metadata": {},
   "outputs": [],
   "source": [
    "# 加载停用词\n",
    "def load_stop_words(stop_words_path):\n",
    "    with open(stop_words_path, 'r') as f:\n",
    "        stop_words = f.read()\n",
    "    return stop_words.split('\\n')"
   ]
  },
  {
   "cell_type": "markdown",
   "id": "dc1bdfcc-1b25-4157-917d-2b9c3aa24057",
   "metadata": {},
   "source": [
    "## 1. 对语料的一些预处理"
   ]
  },
  {
   "cell_type": "code",
   "execution_count": 4,
   "id": "b6693ef6-b291-4c68-96ce-d298cc5454fa",
   "metadata": {},
   "outputs": [],
   "source": [
    "# 获取《红楼梦》中的句子\n",
    "def get_sentences(book_path, cn_stop_words_path):\n",
    "    with open(book_path, 'r') as f:\n",
    "        content = f.read()\n",
    "\n",
    "    # 删除 \\n \\u3000 \\u3000\n",
    "    pattern = re.compile(r'(\\n|\\u3000|\\u3000)', re.IGNORECASE)\n",
    "    content = pattern.sub('', content)\n",
    "    \n",
    "    # 加载中文停用词\n",
    "    cn_stop_words = load_stop_words(cn_stop_words_path)\n",
    "    \n",
    "    # 切分句子\n",
    "    sentences = re.split('。|！|？', content)\n",
    "    \n",
    "    # 去除停用词\n",
    "    return [\n",
    "        [word for word in jieba.cut(text) if word not in cn_stop_words]\n",
    "        for text in sentences\n",
    "    ]"
   ]
  },
  {
   "cell_type": "code",
   "execution_count": 5,
   "id": "c2d05f1f-1166-4748-b38a-c8f0864921a8",
   "metadata": {},
   "outputs": [
    {
     "name": "stderr",
     "output_type": "stream",
     "text": [
      "Building prefix dict from the default dictionary ...\n",
      "Dumping model to file cache /var/folders/0v/110wmd1964s9xk3hg_ty7hnh0000gn/T/jieba.cache\n",
      "Loading model cost 0.294 seconds.\n",
      "Prefix dict has been built successfully.\n"
     ]
    },
    {
     "data": {
      "text/plain": [
       "35077"
      ]
     },
     "execution_count": 5,
     "metadata": {},
     "output_type": "execute_result"
    }
   ],
   "source": [
    "sentences = get_sentences(book_path=CN_BOOK_PATH,\n",
    "                       cn_stop_words_path=CN_STOP_WORDS)\n",
    "len(sentences)"
   ]
  },
  {
   "cell_type": "markdown",
   "id": "28c7e436-f23f-409a-845a-53012faa054d",
   "metadata": {
    "execution": {
     "iopub.execute_input": "2024-07-01T08:28:40.941922Z",
     "iopub.status.busy": "2024-07-01T08:28:40.941486Z",
     "iopub.status.idle": "2024-07-01T08:28:40.947003Z",
     "shell.execute_reply": "2024-07-01T08:28:40.946094Z",
     "shell.execute_reply.started": "2024-07-01T08:28:40.941891Z"
    }
   },
   "source": [
    "## 2. 获取词嵌入和句子嵌入"
   ]
  },
  {
   "cell_type": "code",
   "execution_count": 6,
   "id": "4b8aa993-7250-457b-be6c-bbb0d186df6f",
   "metadata": {},
   "outputs": [
    {
     "data": {
      "text/plain": [
       "<gensim.models.word2vec.Word2Vec at 0x13d1b5540>"
      ]
     },
     "execution_count": 6,
     "metadata": {},
     "output_type": "execute_result"
    }
   ],
   "source": [
    "cn_model = Word2Vec(sentences=sentences, vector_size=100, window=15, min_count=1, workers=4)\n",
    "cn_model"
   ]
  },
  {
   "cell_type": "code",
   "execution_count": 7,
   "id": "2a2d25a1-d752-4ea8-bf27-f115cf5c1a53",
   "metadata": {},
   "outputs": [
    {
     "data": {
      "text/plain": [
       "array([ 0.02695482,  0.07779247,  0.07012616,  0.06487115, -0.15949781,\n",
       "       -0.3419014 ,  0.10270573,  0.4820606 ,  0.00289474, -0.09030233,\n",
       "       -0.0143318 , -0.21964096, -0.06298142,  0.15229826,  0.14050776,\n",
       "       -0.13950881,  0.07108366, -0.11627953, -0.16915977, -0.4733254 ,\n",
       "        0.11839887,  0.10822443,  0.10420915, -0.03805748,  0.12504137,\n",
       "       -0.02423785, -0.21124965, -0.04285785, -0.2179474 ,  0.04692608,\n",
       "        0.03653614,  0.05885538, -0.00092662, -0.14675492, -0.14369257,\n",
       "        0.2934998 , -0.00702528, -0.14393175, -0.08159426, -0.3762011 ,\n",
       "        0.05363935, -0.25379714, -0.15995392, -0.05318958,  0.05903193,\n",
       "       -0.0099874 , -0.2335613 , -0.00736681,  0.00442902,  0.282669  ,\n",
       "        0.05990946, -0.22081053, -0.17153227, -0.09689675, -0.21542862,\n",
       "        0.13948385,  0.07004401,  0.10408314, -0.12259302,  0.1600684 ,\n",
       "       -0.02643811,  0.14391859, -0.13720137,  0.01075041, -0.18874075,\n",
       "        0.34105572,  0.11198212,  0.12553063, -0.2942361 ,  0.39938956,\n",
       "       -0.19389476,  0.03886   ,  0.2350857 , -0.12292185,  0.2910657 ,\n",
       "        0.10217296,  0.2045358 , -0.01166518, -0.3100208 ,  0.22034287,\n",
       "        0.02093503, -0.04318751, -0.17206644,  0.34371486,  0.01759985,\n",
       "       -0.04353508, -0.08594499,  0.20118645,  0.3195976 ,  0.18177994,\n",
       "        0.2313375 ,  0.13547906, -0.04250196,  0.02863673,  0.2745166 ,\n",
       "        0.22848347,  0.18580055, -0.1994677 ,  0.01434275,  0.09579597],\n",
       "      dtype=float32)"
      ]
     },
     "execution_count": 7,
     "metadata": {},
     "output_type": "execute_result"
    }
   ],
   "source": [
    "# 获取词嵌入\n",
    "def get_word_embedding(word):\n",
    "    words = cn_model.wv\n",
    "    if word in words:\n",
    "        return words[word]\n",
    "    else:\n",
    "        return None\n",
    "\n",
    "get_word_embedding(word='林黛玉')"
   ]
  },
  {
   "cell_type": "code",
   "execution_count": 8,
   "id": "4506d4da-3fc6-44d7-900c-98559c71dba5",
   "metadata": {},
   "outputs": [],
   "source": [
    "# 获取句子嵌入\n",
    "def get_sentence_embedding(sentence: list):\n",
    "    words = cn_model.wv\n",
    "    if all([word in words for word in sentence]):\n",
    "        return torch.Tensor([words[word].tolist() for word in sentence]).mean(dim=0).numpy()\n",
    "    else:\n",
    "        return None"
   ]
  },
  {
   "cell_type": "code",
   "execution_count": 9,
   "id": "ff64efc9-521f-45b3-ab5c-01688bf9d94e",
   "metadata": {},
   "outputs": [
    {
     "data": {
      "text/plain": [
       "['但书中', '所记', '何事', '何人']"
      ]
     },
     "execution_count": 9,
     "metadata": {},
     "output_type": "execute_result"
    }
   ],
   "source": [
    "sentences[2]"
   ]
  },
  {
   "cell_type": "code",
   "execution_count": 10,
   "id": "d714b4f9-d6ce-40e5-b60d-0076b812b6bb",
   "metadata": {},
   "outputs": [
    {
     "data": {
      "text/plain": [
       "array([ 0.01920669,  0.04407325,  0.02712532,  0.03531424, -0.06799279,\n",
       "       -0.15175235,  0.04094258,  0.20957285, -0.01188125, -0.07008227,\n",
       "        0.01283324, -0.10395701, -0.0303293 ,  0.05464818,  0.04932523,\n",
       "       -0.04905527,  0.02437358, -0.05570764, -0.06707565, -0.20514601,\n",
       "        0.04664106,  0.04197637,  0.05018541, -0.02218731,  0.04988867,\n",
       "       -0.02249959, -0.07519446, -0.0163099 , -0.10285886,  0.01710362,\n",
       "        0.03293168,  0.00995623,  0.01883415, -0.06185373, -0.05676237,\n",
       "        0.13762921, -0.01974768, -0.05732157, -0.04990767, -0.15983196,\n",
       "        0.03456043, -0.11234295, -0.07592264, -0.01036044,  0.02235567,\n",
       "       -0.02994039, -0.10262044,  0.00975732, -0.00993088,  0.11616881,\n",
       "        0.02437238, -0.09928151, -0.08067535, -0.03674751, -0.09661898,\n",
       "        0.0503144 ,  0.02380429,  0.04341634, -0.05078467,  0.07080653,\n",
       "       -0.02259982,  0.05594487, -0.02838944,  0.00968448, -0.08074763,\n",
       "        0.14024888,  0.04144536,  0.06442392, -0.13777986,  0.15997353,\n",
       "       -0.06452186,  0.01634076,  0.10351898, -0.04415424,  0.13222346,\n",
       "        0.04496545,  0.09107856, -0.03436254, -0.13410966,  0.10188842,\n",
       "       -0.00487401, -0.01647629, -0.07389623,  0.16280726, -0.01394236,\n",
       "       -0.02902998, -0.02562572,  0.09123977,  0.14572003,  0.0886846 ,\n",
       "        0.08199108,  0.0495915 , -0.01903267,  0.03978851,  0.12189578,\n",
       "        0.09193721,  0.07735617, -0.08417603, -0.00502913,  0.04235213],\n",
       "      dtype=float32)"
      ]
     },
     "execution_count": 10,
     "metadata": {},
     "output_type": "execute_result"
    }
   ],
   "source": [
    "sentence_embedding = get_sentence_embedding(sentence=sentences[2])\n",
    "sentence_embedding"
   ]
  },
  {
   "cell_type": "markdown",
   "id": "f47d843e-5c74-425f-b416-62d5ca99f657",
   "metadata": {},
   "source": [
    "## 3. 将词嵌入存入 csv"
   ]
  },
  {
   "cell_type": "code",
   "execution_count": 11,
   "id": "b9d4bf3e-bd45-4eff-ab7d-830d00c21a11",
   "metadata": {},
   "outputs": [
    {
     "data": {
      "text/plain": [
       "3234"
      ]
     },
     "execution_count": 11,
     "metadata": {},
     "output_type": "execute_result"
    }
   ],
   "source": [
    "# 计算词频\n",
    "corpus = [w for text in sentences for w in text]\n",
    "ctr = collections.Counter(corpus)\n",
    "\n",
    "# 过滤词频过低的词\n",
    "n_corpus = [k for k, v in ctr.items() if v > MIN_FREQ]\n",
    "len(n_corpus)"
   ]
  },
  {
   "cell_type": "code",
   "execution_count": 12,
   "id": "451c9b34-4261-4976-8246-4861526ff98d",
   "metadata": {},
   "outputs": [
    {
     "data": {
      "text/plain": [
       "3234"
      ]
     },
     "execution_count": 12,
     "metadata": {},
     "output_type": "execute_result"
    }
   ],
   "source": [
    "# 获取每个词的 embedding\n",
    "ebd_dict = dict()\n",
    "for word in n_corpus:\n",
    "    ebd_dict[word] = get_word_embedding(word)\n",
    "\n",
    "len(ebd_dict)"
   ]
  },
  {
   "cell_type": "code",
   "execution_count": 13,
   "id": "6f26e13f-4ec3-46bb-9fcd-39b2050d14d2",
   "metadata": {},
   "outputs": [],
   "source": [
    "# 将 embedding 存成字符串\n",
    "def ebd2str(embedding):\n",
    "    return json.dumps(embedding.tolist())"
   ]
  },
  {
   "cell_type": "code",
   "execution_count": 14,
   "id": "5da8878c-16ad-4af3-98a5-fd5f2bf0a691",
   "metadata": {},
   "outputs": [
    {
     "data": {
      "text/html": [
       "<div>\n",
       "<style scoped>\n",
       "    .dataframe tbody tr th:only-of-type {\n",
       "        vertical-align: middle;\n",
       "    }\n",
       "\n",
       "    .dataframe tbody tr th {\n",
       "        vertical-align: top;\n",
       "    }\n",
       "\n",
       "    .dataframe thead th {\n",
       "        text-align: right;\n",
       "    }\n",
       "</style>\n",
       "<table border=\"1\" class=\"dataframe\">\n",
       "  <thead>\n",
       "    <tr style=\"text-align: right;\">\n",
       "      <th></th>\n",
       "      <th>word</th>\n",
       "      <th>embedding</th>\n",
       "    </tr>\n",
       "  </thead>\n",
       "  <tbody>\n",
       "    <tr>\n",
       "      <th>0</th>\n",
       "      <td>章</td>\n",
       "      <td>[-0.06583424, -0.35617286, 0.7112745, -0.21317...</td>\n",
       "    </tr>\n",
       "    <tr>\n",
       "      <th>1</th>\n",
       "      <td>贾雨村</td>\n",
       "      <td>[0.06584845, 0.06028839, 0.06956228, 0.0681048...</td>\n",
       "    </tr>\n",
       "    <tr>\n",
       "      <th>2</th>\n",
       "      <td>一番</td>\n",
       "      <td>[0.15242763, 0.3560388, 0.235145, 0.27399004, ...</td>\n",
       "    </tr>\n",
       "    <tr>\n",
       "      <th>3</th>\n",
       "      <td>之后</td>\n",
       "      <td>[0.11055881, 0.22398143, 0.18437295, 0.1915483...</td>\n",
       "    </tr>\n",
       "    <tr>\n",
       "      <th>4</th>\n",
       "      <td>说</td>\n",
       "      <td>[0.5745651, 0.7350919, 0.18694074, 0.64299136,...</td>\n",
       "    </tr>\n",
       "    <tr>\n",
       "      <th>...</th>\n",
       "      <td>...</td>\n",
       "      <td>...</td>\n",
       "    </tr>\n",
       "    <tr>\n",
       "      <th>3229</th>\n",
       "      <td>腰门</td>\n",
       "      <td>[0.016465, 0.05250697, 0.04141871, 0.04207318,...</td>\n",
       "    </tr>\n",
       "    <tr>\n",
       "      <th>3230</th>\n",
       "      <td>主上</td>\n",
       "      <td>[0.07417383, 0.026597852, 0.040637456, 0.02408...</td>\n",
       "    </tr>\n",
       "    <tr>\n",
       "      <th>3231</th>\n",
       "      <td>赵堂官</td>\n",
       "      <td>[0.018719776, 0.079556175, 0.027746059, 0.0569...</td>\n",
       "    </tr>\n",
       "    <tr>\n",
       "      <th>3232</th>\n",
       "      <td>甄宝玉</td>\n",
       "      <td>[0.045802593, 0.17701188, 0.07884574, 0.139127...</td>\n",
       "    </tr>\n",
       "    <tr>\n",
       "      <th>3233</th>\n",
       "      <td>邢大舅</td>\n",
       "      <td>[0.01685256, 0.042781312, 0.027710551, 0.04513...</td>\n",
       "    </tr>\n",
       "  </tbody>\n",
       "</table>\n",
       "<p>3234 rows × 2 columns</p>\n",
       "</div>"
      ],
      "text/plain": [
       "     word                                          embedding\n",
       "0       章  [-0.06583424, -0.35617286, 0.7112745, -0.21317...\n",
       "1     贾雨村  [0.06584845, 0.06028839, 0.06956228, 0.0681048...\n",
       "2      一番  [0.15242763, 0.3560388, 0.235145, 0.27399004, ...\n",
       "3      之后  [0.11055881, 0.22398143, 0.18437295, 0.1915483...\n",
       "4       说  [0.5745651, 0.7350919, 0.18694074, 0.64299136,...\n",
       "...   ...                                                ...\n",
       "3229   腰门  [0.016465, 0.05250697, 0.04141871, 0.04207318,...\n",
       "3230   主上  [0.07417383, 0.026597852, 0.040637456, 0.02408...\n",
       "3231  赵堂官  [0.018719776, 0.079556175, 0.027746059, 0.0569...\n",
       "3232  甄宝玉  [0.045802593, 0.17701188, 0.07884574, 0.139127...\n",
       "3233  邢大舅  [0.01685256, 0.042781312, 0.027710551, 0.04513...\n",
       "\n",
       "[3234 rows x 2 columns]"
      ]
     },
     "execution_count": 14,
     "metadata": {},
     "output_type": "execute_result"
    }
   ],
   "source": [
    "data = {\n",
    "    'word': ebd_dict.keys(),\n",
    "    'embedding': ebd_dict.values(),\n",
    "}\n",
    "\n",
    "df = pd.DataFrame(data)\n",
    "df"
   ]
  },
  {
   "cell_type": "code",
   "execution_count": 15,
   "id": "f080defa-4feb-4863-9a31-be13bd3591c8",
   "metadata": {},
   "outputs": [],
   "source": [
    "# 将 embedding 列里的所有 embedding 转成 str\n",
    "df['embedding'] = df['embedding'].apply(ebd2str)"
   ]
  },
  {
   "cell_type": "code",
   "execution_count": 16,
   "id": "672d9138-58a2-4286-9127-30f7ace95cd1",
   "metadata": {},
   "outputs": [
    {
     "data": {
      "text/plain": [
       "str"
      ]
     },
     "execution_count": 16,
     "metadata": {},
     "output_type": "execute_result"
    }
   ],
   "source": [
    "# 验证一下是不是转成 str 了\n",
    "ebd = df[df['word'] == '林黛玉']['embedding'].iloc[0]\n",
    "type(ebd)"
   ]
  },
  {
   "cell_type": "code",
   "execution_count": 17,
   "id": "8d44c442-f25c-4d12-b409-895f4b59b20e",
   "metadata": {},
   "outputs": [],
   "source": [
    "df.to_csv(DATAFILE_PATH, index=False)"
   ]
  },
  {
   "cell_type": "markdown",
   "id": "169e745f-3a0d-4c3a-8baa-232362caf412",
   "metadata": {},
   "source": [
    "## 4. 从 csv 中读取词嵌入"
   ]
  },
  {
   "cell_type": "code",
   "execution_count": 18,
   "id": "1ae4dbe0-e003-4e73-baa7-686b6d508898",
   "metadata": {},
   "outputs": [],
   "source": [
    "rdf = pd.read_csv(DATAFILE_PATH)\n",
    "# rdf"
   ]
  },
  {
   "cell_type": "code",
   "execution_count": 19,
   "id": "f7f3a87c-d030-487f-b63b-51b60d875ad6",
   "metadata": {},
   "outputs": [
    {
     "data": {
      "text/html": [
       "<div>\n",
       "<style scoped>\n",
       "    .dataframe tbody tr th:only-of-type {\n",
       "        vertical-align: middle;\n",
       "    }\n",
       "\n",
       "    .dataframe tbody tr th {\n",
       "        vertical-align: top;\n",
       "    }\n",
       "\n",
       "    .dataframe thead th {\n",
       "        text-align: right;\n",
       "    }\n",
       "</style>\n",
       "<table border=\"1\" class=\"dataframe\">\n",
       "  <thead>\n",
       "    <tr style=\"text-align: right;\">\n",
       "      <th></th>\n",
       "      <th>word</th>\n",
       "      <th>embedding</th>\n",
       "    </tr>\n",
       "  </thead>\n",
       "  <tbody>\n",
       "    <tr>\n",
       "      <th>0</th>\n",
       "      <td>章</td>\n",
       "      <td>[-0.06583423912525177, -0.3561728596687317, 0....</td>\n",
       "    </tr>\n",
       "    <tr>\n",
       "      <th>1</th>\n",
       "      <td>贾雨村</td>\n",
       "      <td>[0.0658484473824501, 0.06028838828206062, 0.06...</td>\n",
       "    </tr>\n",
       "    <tr>\n",
       "      <th>2</th>\n",
       "      <td>一番</td>\n",
       "      <td>[0.15242762863636017, 0.35603880882263184, 0.2...</td>\n",
       "    </tr>\n",
       "    <tr>\n",
       "      <th>3</th>\n",
       "      <td>之后</td>\n",
       "      <td>[0.11055880784988403, 0.22398142516613007, 0.1...</td>\n",
       "    </tr>\n",
       "    <tr>\n",
       "      <th>4</th>\n",
       "      <td>说</td>\n",
       "      <td>[0.5745651125907898, 0.7350919246673584, 0.186...</td>\n",
       "    </tr>\n",
       "    <tr>\n",
       "      <th>...</th>\n",
       "      <td>...</td>\n",
       "      <td>...</td>\n",
       "    </tr>\n",
       "    <tr>\n",
       "      <th>3229</th>\n",
       "      <td>腰门</td>\n",
       "      <td>[0.016465000808238983, 0.05250696837902069, 0....</td>\n",
       "    </tr>\n",
       "    <tr>\n",
       "      <th>3230</th>\n",
       "      <td>主上</td>\n",
       "      <td>[0.07417383044958115, 0.026597851887345314, 0....</td>\n",
       "    </tr>\n",
       "    <tr>\n",
       "      <th>3231</th>\n",
       "      <td>赵堂官</td>\n",
       "      <td>[0.01871977560222149, 0.0795561745762825, 0.02...</td>\n",
       "    </tr>\n",
       "    <tr>\n",
       "      <th>3232</th>\n",
       "      <td>甄宝玉</td>\n",
       "      <td>[0.04580259323120117, 0.1770118772983551, 0.07...</td>\n",
       "    </tr>\n",
       "    <tr>\n",
       "      <th>3233</th>\n",
       "      <td>邢大舅</td>\n",
       "      <td>[0.01685255952179432, 0.04278131201863289, 0.0...</td>\n",
       "    </tr>\n",
       "  </tbody>\n",
       "</table>\n",
       "<p>3234 rows × 2 columns</p>\n",
       "</div>"
      ],
      "text/plain": [
       "     word                                          embedding\n",
       "0       章  [-0.06583423912525177, -0.3561728596687317, 0....\n",
       "1     贾雨村  [0.0658484473824501, 0.06028838828206062, 0.06...\n",
       "2      一番  [0.15242762863636017, 0.35603880882263184, 0.2...\n",
       "3      之后  [0.11055880784988403, 0.22398142516613007, 0.1...\n",
       "4       说  [0.5745651125907898, 0.7350919246673584, 0.186...\n",
       "...   ...                                                ...\n",
       "3229   腰门  [0.016465000808238983, 0.05250696837902069, 0....\n",
       "3230   主上  [0.07417383044958115, 0.026597851887345314, 0....\n",
       "3231  赵堂官  [0.01871977560222149, 0.0795561745762825, 0.02...\n",
       "3232  甄宝玉  [0.04580259323120117, 0.1770118772983551, 0.07...\n",
       "3233  邢大舅  [0.01685255952179432, 0.04278131201863289, 0.0...\n",
       "\n",
       "[3234 rows x 2 columns]"
      ]
     },
     "execution_count": 19,
     "metadata": {},
     "output_type": "execute_result"
    }
   ],
   "source": [
    "rdf.embedding = rdf.embedding.apply(literal_eval).apply(lambda e: np.array(e))\n",
    "rdf"
   ]
  },
  {
   "cell_type": "code",
   "execution_count": 20,
   "id": "26b1ffff-421a-470c-9d64-62104de2be88",
   "metadata": {},
   "outputs": [
    {
     "data": {
      "text/plain": [
       "numpy.ndarray"
      ]
     },
     "execution_count": 20,
     "metadata": {},
     "output_type": "execute_result"
    }
   ],
   "source": [
    "type(rdf.iloc[0]['embedding'])"
   ]
  },
  {
   "cell_type": "markdown",
   "id": "ed44dd9d-5552-4d7f-a027-4f617834ffa0",
   "metadata": {},
   "source": [
    "## 5. 整合成函数\n",
    "\n",
    "将以上功能整合成一个函数，并写入 `util.py`"
   ]
  },
  {
   "cell_type": "code",
   "execution_count": 21,
   "id": "6a7f0c70-961c-4b16-baa4-d81207a165fa",
   "metadata": {},
   "outputs": [
    {
     "data": {
      "text/html": [
       "<div>\n",
       "<style scoped>\n",
       "    .dataframe tbody tr th:only-of-type {\n",
       "        vertical-align: middle;\n",
       "    }\n",
       "\n",
       "    .dataframe tbody tr th {\n",
       "        vertical-align: top;\n",
       "    }\n",
       "\n",
       "    .dataframe thead th {\n",
       "        text-align: right;\n",
       "    }\n",
       "</style>\n",
       "<table border=\"1\" class=\"dataframe\">\n",
       "  <thead>\n",
       "    <tr style=\"text-align: right;\">\n",
       "      <th></th>\n",
       "      <th>word</th>\n",
       "      <th>embedding</th>\n",
       "    </tr>\n",
       "  </thead>\n",
       "  <tbody>\n",
       "    <tr>\n",
       "      <th>0</th>\n",
       "      <td>章</td>\n",
       "      <td>[-0.06583424, -0.35617286, 0.7112745, -0.21317...</td>\n",
       "    </tr>\n",
       "    <tr>\n",
       "      <th>1</th>\n",
       "      <td>贾雨村</td>\n",
       "      <td>[0.06584845, 0.06028839, 0.06956228, 0.0681048...</td>\n",
       "    </tr>\n",
       "    <tr>\n",
       "      <th>2</th>\n",
       "      <td>一番</td>\n",
       "      <td>[0.15242763, 0.3560388, 0.235145, 0.27399004, ...</td>\n",
       "    </tr>\n",
       "    <tr>\n",
       "      <th>3</th>\n",
       "      <td>之后</td>\n",
       "      <td>[0.11055881, 0.22398143, 0.18437295, 0.1915483...</td>\n",
       "    </tr>\n",
       "    <tr>\n",
       "      <th>4</th>\n",
       "      <td>说</td>\n",
       "      <td>[0.5745651, 0.7350919, 0.18694074, 0.64299136,...</td>\n",
       "    </tr>\n",
       "    <tr>\n",
       "      <th>...</th>\n",
       "      <td>...</td>\n",
       "      <td>...</td>\n",
       "    </tr>\n",
       "    <tr>\n",
       "      <th>3229</th>\n",
       "      <td>腰门</td>\n",
       "      <td>[0.016465, 0.05250697, 0.04141871, 0.04207318,...</td>\n",
       "    </tr>\n",
       "    <tr>\n",
       "      <th>3230</th>\n",
       "      <td>主上</td>\n",
       "      <td>[0.07417383, 0.026597852, 0.040637456, 0.02408...</td>\n",
       "    </tr>\n",
       "    <tr>\n",
       "      <th>3231</th>\n",
       "      <td>赵堂官</td>\n",
       "      <td>[0.018719776, 0.079556175, 0.027746059, 0.0569...</td>\n",
       "    </tr>\n",
       "    <tr>\n",
       "      <th>3232</th>\n",
       "      <td>甄宝玉</td>\n",
       "      <td>[0.045802593, 0.17701188, 0.07884574, 0.139127...</td>\n",
       "    </tr>\n",
       "    <tr>\n",
       "      <th>3233</th>\n",
       "      <td>邢大舅</td>\n",
       "      <td>[0.01685256, 0.042781312, 0.027710551, 0.04513...</td>\n",
       "    </tr>\n",
       "  </tbody>\n",
       "</table>\n",
       "<p>3234 rows × 2 columns</p>\n",
       "</div>"
      ],
      "text/plain": [
       "     word                                          embedding\n",
       "0       章  [-0.06583424, -0.35617286, 0.7112745, -0.21317...\n",
       "1     贾雨村  [0.06584845, 0.06028839, 0.06956228, 0.0681048...\n",
       "2      一番  [0.15242763, 0.3560388, 0.235145, 0.27399004, ...\n",
       "3      之后  [0.11055881, 0.22398143, 0.18437295, 0.1915483...\n",
       "4       说  [0.5745651, 0.7350919, 0.18694074, 0.64299136,...\n",
       "...   ...                                                ...\n",
       "3229   腰门  [0.016465, 0.05250697, 0.04141871, 0.04207318,...\n",
       "3230   主上  [0.07417383, 0.026597852, 0.040637456, 0.02408...\n",
       "3231  赵堂官  [0.018719776, 0.079556175, 0.027746059, 0.0569...\n",
       "3232  甄宝玉  [0.045802593, 0.17701188, 0.07884574, 0.139127...\n",
       "3233  邢大舅  [0.01685256, 0.042781312, 0.027710551, 0.04513...\n",
       "\n",
       "[3234 rows x 2 columns]"
      ]
     },
     "execution_count": 21,
     "metadata": {},
     "output_type": "execute_result"
    }
   ],
   "source": [
    "# 假设名为 embedding 的列，被用来存储词向量\n",
    "data = {\n",
    "    'word': ebd_dict.keys(),\n",
    "    'embedding': ebd_dict.values(),\n",
    "}\n",
    "\n",
    "df = pd.DataFrame(data)\n",
    "df"
   ]
  },
  {
   "cell_type": "code",
   "execution_count": 22,
   "id": "16c8ef9a-bfbd-43c1-8377-eac0d8148b99",
   "metadata": {},
   "outputs": [],
   "source": [
    "# 参数 ebd_cols 定义哪些列存了 embedding\n",
    "def embedding_df_to_csv(df, csv_path, ebd_cols: list):\n",
    "    \"\"\"将带有 embedding 的 DataFrame 存入 csv\"\"\"\n",
    "    def ebd2str(embedding):\n",
    "        if not isinstance(embedding, list):\n",
    "            ebd = embedding.tolist()\n",
    "        return json.dumps(ebd)\n",
    "\n",
    "    for col in ebd_cols:\n",
    "        df[col] = df[col].apply(ebd2str)\n",
    "\n",
    "    df.to_csv(csv_path, index=False)"
   ]
  },
  {
   "cell_type": "code",
   "execution_count": 23,
   "id": "86860d7c-e1cf-4c07-a121-c5b301362480",
   "metadata": {},
   "outputs": [],
   "source": [
    "embedding_df_to_csv(df,\n",
    "                    csv_path=DATAFILE_PATH,\n",
    "                    ebd_cols=['embedding'])"
   ]
  },
  {
   "cell_type": "code",
   "execution_count": 24,
   "id": "b12e19c2-52c8-4e9b-9eb1-cf06f196c0fb",
   "metadata": {},
   "outputs": [],
   "source": [
    "def read_embedding_csv(csv_path, ebd_cols: list):\n",
    "    \"\"\"将带有 embedding 的 csv 读入 DataFrame\"\"\"\n",
    "    df = pd.read_csv(csv_path)\n",
    "    for col in ebd_cols:\n",
    "        df[col] = df[col].apply(literal_eval).apply(lambda e: np.array(e))\n",
    "\n",
    "    return df"
   ]
  },
  {
   "cell_type": "code",
   "execution_count": 25,
   "id": "69d0c525-de8f-4f20-b1d2-fd30c552dce4",
   "metadata": {},
   "outputs": [
    {
     "data": {
      "text/html": [
       "<div>\n",
       "<style scoped>\n",
       "    .dataframe tbody tr th:only-of-type {\n",
       "        vertical-align: middle;\n",
       "    }\n",
       "\n",
       "    .dataframe tbody tr th {\n",
       "        vertical-align: top;\n",
       "    }\n",
       "\n",
       "    .dataframe thead th {\n",
       "        text-align: right;\n",
       "    }\n",
       "</style>\n",
       "<table border=\"1\" class=\"dataframe\">\n",
       "  <thead>\n",
       "    <tr style=\"text-align: right;\">\n",
       "      <th></th>\n",
       "      <th>word</th>\n",
       "      <th>embedding</th>\n",
       "    </tr>\n",
       "  </thead>\n",
       "  <tbody>\n",
       "    <tr>\n",
       "      <th>0</th>\n",
       "      <td>章</td>\n",
       "      <td>[-0.06583423912525177, -0.3561728596687317, 0....</td>\n",
       "    </tr>\n",
       "    <tr>\n",
       "      <th>1</th>\n",
       "      <td>贾雨村</td>\n",
       "      <td>[0.0658484473824501, 0.06028838828206062, 0.06...</td>\n",
       "    </tr>\n",
       "    <tr>\n",
       "      <th>2</th>\n",
       "      <td>一番</td>\n",
       "      <td>[0.15242762863636017, 0.35603880882263184, 0.2...</td>\n",
       "    </tr>\n",
       "    <tr>\n",
       "      <th>3</th>\n",
       "      <td>之后</td>\n",
       "      <td>[0.11055880784988403, 0.22398142516613007, 0.1...</td>\n",
       "    </tr>\n",
       "    <tr>\n",
       "      <th>4</th>\n",
       "      <td>说</td>\n",
       "      <td>[0.5745651125907898, 0.7350919246673584, 0.186...</td>\n",
       "    </tr>\n",
       "    <tr>\n",
       "      <th>...</th>\n",
       "      <td>...</td>\n",
       "      <td>...</td>\n",
       "    </tr>\n",
       "    <tr>\n",
       "      <th>3229</th>\n",
       "      <td>腰门</td>\n",
       "      <td>[0.016465000808238983, 0.05250696837902069, 0....</td>\n",
       "    </tr>\n",
       "    <tr>\n",
       "      <th>3230</th>\n",
       "      <td>主上</td>\n",
       "      <td>[0.07417383044958115, 0.026597851887345314, 0....</td>\n",
       "    </tr>\n",
       "    <tr>\n",
       "      <th>3231</th>\n",
       "      <td>赵堂官</td>\n",
       "      <td>[0.01871977560222149, 0.0795561745762825, 0.02...</td>\n",
       "    </tr>\n",
       "    <tr>\n",
       "      <th>3232</th>\n",
       "      <td>甄宝玉</td>\n",
       "      <td>[0.04580259323120117, 0.1770118772983551, 0.07...</td>\n",
       "    </tr>\n",
       "    <tr>\n",
       "      <th>3233</th>\n",
       "      <td>邢大舅</td>\n",
       "      <td>[0.01685255952179432, 0.04278131201863289, 0.0...</td>\n",
       "    </tr>\n",
       "  </tbody>\n",
       "</table>\n",
       "<p>3234 rows × 2 columns</p>\n",
       "</div>"
      ],
      "text/plain": [
       "     word                                          embedding\n",
       "0       章  [-0.06583423912525177, -0.3561728596687317, 0....\n",
       "1     贾雨村  [0.0658484473824501, 0.06028838828206062, 0.06...\n",
       "2      一番  [0.15242762863636017, 0.35603880882263184, 0.2...\n",
       "3      之后  [0.11055880784988403, 0.22398142516613007, 0.1...\n",
       "4       说  [0.5745651125907898, 0.7350919246673584, 0.186...\n",
       "...   ...                                                ...\n",
       "3229   腰门  [0.016465000808238983, 0.05250696837902069, 0....\n",
       "3230   主上  [0.07417383044958115, 0.026597851887345314, 0....\n",
       "3231  赵堂官  [0.01871977560222149, 0.0795561745762825, 0.02...\n",
       "3232  甄宝玉  [0.04580259323120117, 0.1770118772983551, 0.07...\n",
       "3233  邢大舅  [0.01685255952179432, 0.04278131201863289, 0.0...\n",
       "\n",
       "[3234 rows x 2 columns]"
      ]
     },
     "execution_count": 25,
     "metadata": {},
     "output_type": "execute_result"
    }
   ],
   "source": [
    "read_embedding_csv(csv_path=DATAFILE_PATH,\n",
    "                   ebd_cols=['embedding'])"
   ]
  },
  {
   "cell_type": "markdown",
   "id": "8b4a63f8-37d1-4250-9560-7e7f8e7c50dd",
   "metadata": {},
   "source": [
    "试着用 `util.py` 来使用"
   ]
  },
  {
   "cell_type": "code",
   "execution_count": 26,
   "id": "0b3b2d36-bcb1-430d-8dad-d022baf67ead",
   "metadata": {},
   "outputs": [],
   "source": [
    "import util"
   ]
  },
  {
   "cell_type": "code",
   "execution_count": 27,
   "id": "5afc39fb-811b-48e7-86f6-0162d21a8d4a",
   "metadata": {},
   "outputs": [],
   "source": [
    "data = {\n",
    "    'word': ebd_dict.keys(),\n",
    "    'embedding': ebd_dict.values(),\n",
    "}\n",
    "\n",
    "df = pd.DataFrame(data)\n",
    "# df"
   ]
  },
  {
   "cell_type": "code",
   "execution_count": 28,
   "id": "a2d63484-d0ea-44b3-acdb-a1a097e497b2",
   "metadata": {},
   "outputs": [],
   "source": [
    "util.embedding_df_to_csv(df,\n",
    "                         csv_path=DATAFILE_PATH,\n",
    "                         ebd_cols=['embedding'])"
   ]
  },
  {
   "cell_type": "code",
   "execution_count": 29,
   "id": "d10cb25f-691a-406c-bfa1-6548f6928bc8",
   "metadata": {},
   "outputs": [
    {
     "data": {
      "text/html": [
       "<div>\n",
       "<style scoped>\n",
       "    .dataframe tbody tr th:only-of-type {\n",
       "        vertical-align: middle;\n",
       "    }\n",
       "\n",
       "    .dataframe tbody tr th {\n",
       "        vertical-align: top;\n",
       "    }\n",
       "\n",
       "    .dataframe thead th {\n",
       "        text-align: right;\n",
       "    }\n",
       "</style>\n",
       "<table border=\"1\" class=\"dataframe\">\n",
       "  <thead>\n",
       "    <tr style=\"text-align: right;\">\n",
       "      <th></th>\n",
       "      <th>word</th>\n",
       "      <th>embedding</th>\n",
       "    </tr>\n",
       "  </thead>\n",
       "  <tbody>\n",
       "    <tr>\n",
       "      <th>0</th>\n",
       "      <td>章</td>\n",
       "      <td>[-0.06583423912525177, -0.3561728596687317, 0....</td>\n",
       "    </tr>\n",
       "    <tr>\n",
       "      <th>1</th>\n",
       "      <td>贾雨村</td>\n",
       "      <td>[0.0658484473824501, 0.06028838828206062, 0.06...</td>\n",
       "    </tr>\n",
       "    <tr>\n",
       "      <th>2</th>\n",
       "      <td>一番</td>\n",
       "      <td>[0.15242762863636017, 0.35603880882263184, 0.2...</td>\n",
       "    </tr>\n",
       "    <tr>\n",
       "      <th>3</th>\n",
       "      <td>之后</td>\n",
       "      <td>[0.11055880784988403, 0.22398142516613007, 0.1...</td>\n",
       "    </tr>\n",
       "    <tr>\n",
       "      <th>4</th>\n",
       "      <td>说</td>\n",
       "      <td>[0.5745651125907898, 0.7350919246673584, 0.186...</td>\n",
       "    </tr>\n",
       "    <tr>\n",
       "      <th>...</th>\n",
       "      <td>...</td>\n",
       "      <td>...</td>\n",
       "    </tr>\n",
       "    <tr>\n",
       "      <th>3229</th>\n",
       "      <td>腰门</td>\n",
       "      <td>[0.016465000808238983, 0.05250696837902069, 0....</td>\n",
       "    </tr>\n",
       "    <tr>\n",
       "      <th>3230</th>\n",
       "      <td>主上</td>\n",
       "      <td>[0.07417383044958115, 0.026597851887345314, 0....</td>\n",
       "    </tr>\n",
       "    <tr>\n",
       "      <th>3231</th>\n",
       "      <td>赵堂官</td>\n",
       "      <td>[0.01871977560222149, 0.0795561745762825, 0.02...</td>\n",
       "    </tr>\n",
       "    <tr>\n",
       "      <th>3232</th>\n",
       "      <td>甄宝玉</td>\n",
       "      <td>[0.04580259323120117, 0.1770118772983551, 0.07...</td>\n",
       "    </tr>\n",
       "    <tr>\n",
       "      <th>3233</th>\n",
       "      <td>邢大舅</td>\n",
       "      <td>[0.01685255952179432, 0.04278131201863289, 0.0...</td>\n",
       "    </tr>\n",
       "  </tbody>\n",
       "</table>\n",
       "<p>3234 rows × 2 columns</p>\n",
       "</div>"
      ],
      "text/plain": [
       "     word                                          embedding\n",
       "0       章  [-0.06583423912525177, -0.3561728596687317, 0....\n",
       "1     贾雨村  [0.0658484473824501, 0.06028838828206062, 0.06...\n",
       "2      一番  [0.15242762863636017, 0.35603880882263184, 0.2...\n",
       "3      之后  [0.11055880784988403, 0.22398142516613007, 0.1...\n",
       "4       说  [0.5745651125907898, 0.7350919246673584, 0.186...\n",
       "...   ...                                                ...\n",
       "3229   腰门  [0.016465000808238983, 0.05250696837902069, 0....\n",
       "3230   主上  [0.07417383044958115, 0.026597851887345314, 0....\n",
       "3231  赵堂官  [0.01871977560222149, 0.0795561745762825, 0.02...\n",
       "3232  甄宝玉  [0.04580259323120117, 0.1770118772983551, 0.07...\n",
       "3233  邢大舅  [0.01685255952179432, 0.04278131201863289, 0.0...\n",
       "\n",
       "[3234 rows x 2 columns]"
      ]
     },
     "execution_count": 29,
     "metadata": {},
     "output_type": "execute_result"
    }
   ],
   "source": [
    "util.read_embedding_csv(csv_path=DATAFILE_PATH,\n",
    "                        ebd_cols=['embedding'])"
   ]
  },
  {
   "cell_type": "code",
   "execution_count": null,
   "id": "983f0db8-326b-4dd0-8deb-51f58ba00b65",
   "metadata": {},
   "outputs": [],
   "source": []
  }
 ],
 "metadata": {
  "kernelspec": {
   "display_name": "Python 3 (ipykernel)",
   "language": "python",
   "name": "python3"
  },
  "language_info": {
   "codemirror_mode": {
    "name": "ipython",
    "version": 3
   },
   "file_extension": ".py",
   "mimetype": "text/x-python",
   "name": "python",
   "nbconvert_exporter": "python",
   "pygments_lexer": "ipython3",
   "version": "3.10.9"
  }
 },
 "nbformat": 4,
 "nbformat_minor": 5
}
