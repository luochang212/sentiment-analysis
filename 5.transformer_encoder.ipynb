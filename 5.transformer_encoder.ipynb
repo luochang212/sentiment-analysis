{
 "cells": [
  {
   "cell_type": "markdown",
   "id": "26839e10-d5c4-4a72-8565-0b43483dc588",
   "metadata": {},
   "source": [
    "# `transformer_encoder.py`\n",
    "\n",
    "将第 4 节代码整合成 `transformer_encoder.py` 文件，再调用 Python 文件训练模型。"
   ]
  },
  {
   "cell_type": "code",
   "execution_count": 1,
   "id": "858e7324-ba17-471e-83d3-98486d6a9784",
   "metadata": {},
   "outputs": [],
   "source": [
    "import pandas as pd\n",
    "import transformer_encoder as tf_encoder"
   ]
  },
  {
   "cell_type": "code",
   "execution_count": 2,
   "id": "80ed2e77-7633-4b28-9ac7-c6284fd5c7aa",
   "metadata": {},
   "outputs": [],
   "source": [
    "IMDB_FILE = './data/IMDB Dataset.csv'"
   ]
  },
  {
   "cell_type": "code",
   "execution_count": 3,
   "id": "a5598f31-1f85-48ad-8210-f08354c63123",
   "metadata": {},
   "outputs": [],
   "source": [
    "df = pd.read_csv(IMDB_FILE)\n",
    "df = df.sample(n=50)\n",
    "# df"
   ]
  },
  {
   "cell_type": "code",
   "execution_count": 4,
   "id": "e2f1abb6-cd66-4da0-95d9-e727a23a2f01",
   "metadata": {},
   "outputs": [
    {
     "data": {
      "text/plain": [
       "negative    27\n",
       "positive    23\n",
       "Name: sentiment, dtype: int64"
      ]
     },
     "execution_count": 4,
     "metadata": {},
     "output_type": "execute_result"
    }
   ],
   "source": [
    "df['sentiment'].value_counts()"
   ]
  },
  {
   "cell_type": "code",
   "execution_count": null,
   "id": "f13a292c-74aa-4d97-b984-1d8db26254af",
   "metadata": {},
   "outputs": [
    {
     "data": {
      "application/vnd.jupyter.widget-view+json": {
       "model_id": "4253bbbf4e734614854d603fff1dc5b6",
       "version_major": 2,
       "version_minor": 0
      },
      "text/plain": [
       "Pandas Apply:   0%|          | 0/50000 [00:00<?, ?it/s]"
      ]
     },
     "metadata": {},
     "output_type": "display_data"
    },
    {
     "name": "stderr",
     "output_type": "stream",
     "text": [
      "/Users/changluo/anaconda3/lib/python3.10/site-packages/bs4/__init__.py:435: MarkupResemblesLocatorWarning: The input looks more like a filename than markup. You may want to open this file and pass the filehandle into Beautiful Soup.\n",
      "  warnings.warn(\n"
     ]
    },
    {
     "data": {
      "application/vnd.jupyter.widget-view+json": {
       "model_id": "d16c53104d4243b395ff97c4976c3730",
       "version_major": 2,
       "version_minor": 0
      },
      "text/plain": [
       "Pandas Apply:   0%|          | 0/50000 [00:00<?, ?it/s]"
      ]
     },
     "metadata": {},
     "output_type": "display_data"
    },
    {
     "name": "stderr",
     "output_type": "stream",
     "text": [
      "Some weights of the model checkpoint at ./data/bert-base-uncased were not used when initializing BertModel: ['cls.seq_relationship.weight', 'cls.seq_relationship.bias', 'cls.predictions.transform.LayerNorm.bias', 'cls.predictions.transform.dense.weight', 'cls.predictions.transform.LayerNorm.weight', 'cls.predictions.decoder.weight', 'cls.predictions.bias', 'cls.predictions.transform.dense.bias']\n",
      "- This IS expected if you are initializing BertModel from the checkpoint of a model trained on another task or with another architecture (e.g. initializing a BertForSequenceClassification model from a BertForPreTraining model).\n",
      "- This IS NOT expected if you are initializing BertModel from the checkpoint of a model that you expect to be exactly identical (initializing a BertForSequenceClassification model from a BertForSequenceClassification model).\n",
      "/Users/changluo/anaconda3/lib/python3.10/site-packages/torch/nn/modules/transformer.py:306: UserWarning: enable_nested_tensor is True, but self.use_nested_tensor is False because encoder_layer.self_attn.batch_first was not True(use batch_first for better inference performance)\n",
      "  warnings.warn(f\"enable_nested_tensor is True, but self.use_nested_tensor is False because {why_not_sparsity_fast_path}\")\n"
     ]
    },
    {
     "name": "stdout",
     "output_type": "stream",
     "text": [
      "epoch: 0\n"
     ]
    }
   ],
   "source": [
    "tf_encoder.main(batch_size=25,\n",
    "                num_epochs=20,\n",
    "                sample_num=None,\n",
    "                df=df)"
   ]
  },
  {
   "cell_type": "code",
   "execution_count": null,
   "id": "af0625a9-355e-4d61-8198-c962e8f27656",
   "metadata": {},
   "outputs": [],
   "source": []
  }
 ],
 "metadata": {
  "kernelspec": {
   "display_name": "Python 3 (ipykernel)",
   "language": "python",
   "name": "python3"
  },
  "language_info": {
   "codemirror_mode": {
    "name": "ipython",
    "version": 3
   },
   "file_extension": ".py",
   "mimetype": "text/x-python",
   "name": "python",
   "nbconvert_exporter": "python",
   "pygments_lexer": "ipython3",
   "version": "3.10.9"
  }
 },
 "nbformat": 4,
 "nbformat_minor": 5
}
