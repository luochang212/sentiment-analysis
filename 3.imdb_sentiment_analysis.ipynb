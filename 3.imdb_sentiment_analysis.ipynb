{
 "cells": [
  {
   "cell_type": "markdown",
   "id": "26839e10-d5c4-4a72-8565-0b43483dc588",
   "metadata": {},
   "source": [
    "# IMDB Sentiment Analysis\n",
    "\n",
    "IMDB 电影评论文本情感分析"
   ]
  },
  {
   "cell_type": "code",
   "execution_count": 1,
   "id": "f202a7a1-6b7a-4ec0-b011-f3c9c2258918",
   "metadata": {
    "execution": {
     "iopub.execute_input": "2024-07-01T14:05:34.769859Z",
     "iopub.status.busy": "2024-07-01T14:05:34.769463Z",
     "iopub.status.idle": "2024-07-01T14:05:34.785111Z",
     "shell.execute_reply": "2024-07-01T14:05:34.784349Z",
     "shell.execute_reply.started": "2024-07-01T14:05:34.769828Z"
    }
   },
   "outputs": [],
   "source": [
    "import pandas as pd\n",
    "import torch\n",
    "\n",
    "import util"
   ]
  },
  {
   "cell_type": "code",
   "execution_count": 2,
   "id": "606738fc-1907-44ec-b8e1-18cda067f86a",
   "metadata": {
    "execution": {
     "iopub.execute_input": "2024-07-01T14:05:44.007191Z",
     "iopub.status.busy": "2024-07-01T14:05:44.006638Z",
     "iopub.status.idle": "2024-07-01T14:05:44.012386Z",
     "shell.execute_reply": "2024-07-01T14:05:44.011331Z",
     "shell.execute_reply.started": "2024-07-01T14:05:44.007135Z"
    }
   },
   "outputs": [],
   "source": [
    "EMBEDDING_CSV_FILE = './data/imdb_embedding.csv'"
   ]
  },
  {
   "cell_type": "markdown",
   "id": "3e94d0d4-246f-4c36-b8f0-2df122806242",
   "metadata": {},
   "source": [
    "## 1. 从 csv 读入 embedding"
   ]
  },
  {
   "cell_type": "code",
   "execution_count": null,
   "id": "5bfc747f-7025-45c8-b327-f88f0be78dbd",
   "metadata": {},
   "outputs": [],
   "source": [
    "df = util.read_embedding_csv(csv_path=EMBEDDING_CSV_FILE,\n",
    "                             ebd_cols=['embedding'])\n",
    "df"
   ]
  },
  {
   "cell_type": "code",
   "execution_count": null,
   "id": "2219d3a9-fea4-43df-a0fc-a01ceb3c7656",
   "metadata": {},
   "outputs": [],
   "source": []
  },
  {
   "cell_type": "code",
   "execution_count": null,
   "id": "c3e07d1d-648d-45d2-9950-eb306ce4c8df",
   "metadata": {},
   "outputs": [],
   "source": []
  },
  {
   "cell_type": "code",
   "execution_count": null,
   "id": "30a7093b-c213-4c9e-81db-c513ad1f49f6",
   "metadata": {},
   "outputs": [],
   "source": []
  }
 ],
 "metadata": {
  "kernelspec": {
   "display_name": "Python 3 (ipykernel)",
   "language": "python",
   "name": "python3"
  },
  "language_info": {
   "codemirror_mode": {
    "name": "ipython",
    "version": 3
   },
   "file_extension": ".py",
   "mimetype": "text/x-python",
   "name": "python",
   "nbconvert_exporter": "python",
   "pygments_lexer": "ipython3",
   "version": "3.10.14"
  }
 },
 "nbformat": 4,
 "nbformat_minor": 5
}
