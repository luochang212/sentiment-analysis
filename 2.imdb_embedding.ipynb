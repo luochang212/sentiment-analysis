{
 "cells": [
  {
   "cell_type": "markdown",
   "id": "b535c06b-e8b5-4415-abb4-faf275309afe",
   "metadata": {},
   "source": [
    "# IMDB Reviews embedding\n",
    "\n",
    "将 IMDB 数据集中的电影评论转换成句子向量，然后存在 `./data/imdb_embedding.csv`.\n",
    "\n",
    "Dataset: https://www.kaggle.com/datasets/lakshmi25npathi/imdb-dataset-of-50k-movie-reviews"
   ]
  },
  {
   "cell_type": "code",
   "execution_count": 1,
   "id": "48c2b3e0-898e-476e-9bde-8c15369c9397",
   "metadata": {
    "execution": {
     "iopub.execute_input": "2024-09-09T18:05:06.593663Z",
     "iopub.status.busy": "2024-09-09T18:05:06.593663Z",
     "iopub.status.idle": "2024-09-09T18:05:06.602058Z",
     "shell.execute_reply": "2024-09-09T18:05:06.600791Z",
     "shell.execute_reply.started": "2024-09-09T18:05:06.593663Z"
    }
   },
   "outputs": [],
   "source": [
    "# !pip install swifter"
   ]
  },
  {
   "cell_type": "code",
   "execution_count": 2,
   "id": "defa6aa7-6891-43d3-ad95-327e7d9248b8",
   "metadata": {
    "execution": {
     "iopub.execute_input": "2024-09-09T18:05:06.603079Z",
     "iopub.status.busy": "2024-09-09T18:05:06.603079Z",
     "iopub.status.idle": "2024-09-09T18:05:29.438703Z",
     "shell.execute_reply": "2024-09-09T18:05:29.438703Z",
     "shell.execute_reply.started": "2024-09-09T18:05:06.603079Z"
    },
    "tags": []
   },
   "outputs": [],
   "source": [
    "import re\n",
    "import torch\n",
    "import warnings\n",
    "import numpy as np\n",
    "import pandas as pd\n",
    "from bs4 import BeautifulSoup\n",
    "from transformers import BertModel, BertTokenizer\n",
    "from swifter import swifter\n",
    "\n",
    "import util\n",
    "\n",
    "warnings.filterwarnings('ignore')"
   ]
  },
  {
   "cell_type": "code",
   "execution_count": 3,
   "id": "3994eaf3-6309-4a8b-a422-ef1d691d28c4",
   "metadata": {
    "execution": {
     "iopub.execute_input": "2024-09-09T18:05:29.444793Z",
     "iopub.status.busy": "2024-09-09T18:05:29.438703Z",
     "iopub.status.idle": "2024-09-09T18:05:29.461305Z",
     "shell.execute_reply": "2024-09-09T18:05:29.456714Z",
     "shell.execute_reply.started": "2024-09-09T18:05:29.444793Z"
    },
    "tags": []
   },
   "outputs": [],
   "source": [
    "EN_BERT_PATH = './data/bert-base-uncased'\n",
    "IMDB_FILE = './data/IMDB Dataset.csv'\n",
    "EMBEDDING_CSV_FILE = './data/imdb_embedding.csv'"
   ]
  },
  {
   "cell_type": "markdown",
   "id": "b482c747-7e1c-4af5-8fe8-b82a7bc856b3",
   "metadata": {},
   "source": [
    "## 1. 文本预处理"
   ]
  },
  {
   "cell_type": "code",
   "execution_count": 4,
   "id": "90b15ab4-9f9c-4eb3-a3c1-68d4c545e65e",
   "metadata": {
    "execution": {
     "iopub.execute_input": "2024-09-09T18:05:29.467923Z",
     "iopub.status.busy": "2024-09-09T18:05:29.466644Z",
     "iopub.status.idle": "2024-09-09T18:05:30.992195Z",
     "shell.execute_reply": "2024-09-09T18:05:30.991185Z",
     "shell.execute_reply.started": "2024-09-09T18:05:29.467923Z"
    }
   },
   "outputs": [
    {
     "data": {
      "text/html": [
       "<div>\n",
       "<style scoped>\n",
       "    .dataframe tbody tr th:only-of-type {\n",
       "        vertical-align: middle;\n",
       "    }\n",
       "\n",
       "    .dataframe tbody tr th {\n",
       "        vertical-align: top;\n",
       "    }\n",
       "\n",
       "    .dataframe thead th {\n",
       "        text-align: right;\n",
       "    }\n",
       "</style>\n",
       "<table border=\"1\" class=\"dataframe\">\n",
       "  <thead>\n",
       "    <tr style=\"text-align: right;\">\n",
       "      <th></th>\n",
       "      <th>review</th>\n",
       "      <th>sentiment</th>\n",
       "    </tr>\n",
       "  </thead>\n",
       "  <tbody>\n",
       "    <tr>\n",
       "      <th>0</th>\n",
       "      <td>One of the other reviewers has mentioned that ...</td>\n",
       "      <td>positive</td>\n",
       "    </tr>\n",
       "    <tr>\n",
       "      <th>1</th>\n",
       "      <td>A wonderful little production. &lt;br /&gt;&lt;br /&gt;The...</td>\n",
       "      <td>positive</td>\n",
       "    </tr>\n",
       "    <tr>\n",
       "      <th>2</th>\n",
       "      <td>I thought this was a wonderful way to spend ti...</td>\n",
       "      <td>positive</td>\n",
       "    </tr>\n",
       "    <tr>\n",
       "      <th>3</th>\n",
       "      <td>Basically there's a family where a little boy ...</td>\n",
       "      <td>negative</td>\n",
       "    </tr>\n",
       "    <tr>\n",
       "      <th>4</th>\n",
       "      <td>Petter Mattei's \"Love in the Time of Money\" is...</td>\n",
       "      <td>positive</td>\n",
       "    </tr>\n",
       "    <tr>\n",
       "      <th>...</th>\n",
       "      <td>...</td>\n",
       "      <td>...</td>\n",
       "    </tr>\n",
       "    <tr>\n",
       "      <th>49995</th>\n",
       "      <td>I thought this movie did a down right good job...</td>\n",
       "      <td>positive</td>\n",
       "    </tr>\n",
       "    <tr>\n",
       "      <th>49996</th>\n",
       "      <td>Bad plot, bad dialogue, bad acting, idiotic di...</td>\n",
       "      <td>negative</td>\n",
       "    </tr>\n",
       "    <tr>\n",
       "      <th>49997</th>\n",
       "      <td>I am a Catholic taught in parochial elementary...</td>\n",
       "      <td>negative</td>\n",
       "    </tr>\n",
       "    <tr>\n",
       "      <th>49998</th>\n",
       "      <td>I'm going to have to disagree with the previou...</td>\n",
       "      <td>negative</td>\n",
       "    </tr>\n",
       "    <tr>\n",
       "      <th>49999</th>\n",
       "      <td>No one expects the Star Trek movies to be high...</td>\n",
       "      <td>negative</td>\n",
       "    </tr>\n",
       "  </tbody>\n",
       "</table>\n",
       "<p>50000 rows × 2 columns</p>\n",
       "</div>"
      ],
      "text/plain": [
       "                                                  review sentiment\n",
       "0      One of the other reviewers has mentioned that ...  positive\n",
       "1      A wonderful little production. <br /><br />The...  positive\n",
       "2      I thought this was a wonderful way to spend ti...  positive\n",
       "3      Basically there's a family where a little boy ...  negative\n",
       "4      Petter Mattei's \"Love in the Time of Money\" is...  positive\n",
       "...                                                  ...       ...\n",
       "49995  I thought this movie did a down right good job...  positive\n",
       "49996  Bad plot, bad dialogue, bad acting, idiotic di...  negative\n",
       "49997  I am a Catholic taught in parochial elementary...  negative\n",
       "49998  I'm going to have to disagree with the previou...  negative\n",
       "49999  No one expects the Star Trek movies to be high...  negative\n",
       "\n",
       "[50000 rows x 2 columns]"
      ]
     },
     "execution_count": 4,
     "metadata": {},
     "output_type": "execute_result"
    }
   ],
   "source": [
    "df = pd.read_csv(IMDB_FILE)\n",
    "df"
   ]
  },
  {
   "cell_type": "code",
   "execution_count": 5,
   "id": "2324ee5b-3c94-4f77-9100-73015449e27e",
   "metadata": {
    "execution": {
     "iopub.execute_input": "2024-09-09T18:05:30.996355Z",
     "iopub.status.busy": "2024-09-09T18:05:30.995349Z",
     "iopub.status.idle": "2024-09-09T18:05:46.268831Z",
     "shell.execute_reply": "2024-09-09T18:05:46.266818Z",
     "shell.execute_reply.started": "2024-09-09T18:05:30.996355Z"
    }
   },
   "outputs": [
    {
     "data": {
      "text/plain": [
       "0        One of the other reviewers has mentioned that ...\n",
       "1        A wonderful little production. The filming tec...\n",
       "2        I thought this was a wonderful way to spend ti...\n",
       "3        Basically there's a family where a little boy ...\n",
       "4        Petter Mattei's \"Love in the Time of Money\" is...\n",
       "                               ...                        \n",
       "49995    I thought this movie did a down right good job...\n",
       "49996    Bad plot, bad dialogue, bad acting, idiotic di...\n",
       "49997    I am a Catholic taught in parochial elementary...\n",
       "49998    I'm going to have to disagree with the previou...\n",
       "49999    No one expects the Star Trek movies to be high...\n",
       "Name: review, Length: 50000, dtype: object"
      ]
     },
     "execution_count": 5,
     "metadata": {},
     "output_type": "execute_result"
    }
   ],
   "source": [
    "# 去除 html 标签\n",
    "def remove_html_label(text):\n",
    "    soup = BeautifulSoup(text, \"html.parser\")\n",
    "    return soup.get_text()\n",
    "\n",
    "df['review'] = df['review'].apply(remove_html_label)\n",
    "df['review']"
   ]
  },
  {
   "cell_type": "code",
   "execution_count": 6,
   "id": "d9d7ee6d-9d49-4fdf-af05-a151feb8518b",
   "metadata": {
    "execution": {
     "iopub.execute_input": "2024-09-09T18:05:46.278113Z",
     "iopub.status.busy": "2024-09-09T18:05:46.276076Z",
     "iopub.status.idle": "2024-09-09T18:05:46.425700Z",
     "shell.execute_reply": "2024-09-09T18:05:46.424055Z",
     "shell.execute_reply.started": "2024-09-09T18:05:46.278113Z"
    }
   },
   "outputs": [
    {
     "data": {
      "text/html": [
       "<div>\n",
       "<style scoped>\n",
       "    .dataframe tbody tr th:only-of-type {\n",
       "        vertical-align: middle;\n",
       "    }\n",
       "\n",
       "    .dataframe tbody tr th {\n",
       "        vertical-align: top;\n",
       "    }\n",
       "\n",
       "    .dataframe thead th {\n",
       "        text-align: right;\n",
       "    }\n",
       "</style>\n",
       "<table border=\"1\" class=\"dataframe\">\n",
       "  <thead>\n",
       "    <tr style=\"text-align: right;\">\n",
       "      <th></th>\n",
       "      <th>review</th>\n",
       "      <th>sentiment</th>\n",
       "    </tr>\n",
       "  </thead>\n",
       "  <tbody>\n",
       "    <tr>\n",
       "      <th>count</th>\n",
       "      <td>50000</td>\n",
       "      <td>50000</td>\n",
       "    </tr>\n",
       "    <tr>\n",
       "      <th>unique</th>\n",
       "      <td>49581</td>\n",
       "      <td>2</td>\n",
       "    </tr>\n",
       "    <tr>\n",
       "      <th>top</th>\n",
       "      <td>Loved today's show!!! It was a variety and not...</td>\n",
       "      <td>positive</td>\n",
       "    </tr>\n",
       "    <tr>\n",
       "      <th>freq</th>\n",
       "      <td>5</td>\n",
       "      <td>25000</td>\n",
       "    </tr>\n",
       "  </tbody>\n",
       "</table>\n",
       "</div>"
      ],
      "text/plain": [
       "                                                   review sentiment\n",
       "count                                               50000     50000\n",
       "unique                                              49581         2\n",
       "top     Loved today's show!!! It was a variety and not...  positive\n",
       "freq                                                    5     25000"
      ]
     },
     "execution_count": 6,
     "metadata": {},
     "output_type": "execute_result"
    }
   ],
   "source": [
    "df.describe()"
   ]
  },
  {
   "cell_type": "code",
   "execution_count": 7,
   "id": "a34cb60f-583e-40b4-8ca6-e7e94228fa7b",
   "metadata": {
    "execution": {
     "iopub.execute_input": "2024-09-09T18:05:46.428850Z",
     "iopub.status.busy": "2024-09-09T18:05:46.427699Z",
     "iopub.status.idle": "2024-09-09T18:05:46.455704Z",
     "shell.execute_reply": "2024-09-09T18:05:46.454017Z",
     "shell.execute_reply.started": "2024-09-09T18:05:46.428850Z"
    }
   },
   "outputs": [
    {
     "data": {
      "text/plain": [
       "sentiment\n",
       "positive    25000\n",
       "negative    25000\n",
       "Name: count, dtype: int64"
      ]
     },
     "execution_count": 7,
     "metadata": {},
     "output_type": "execute_result"
    }
   ],
   "source": [
    "df['sentiment'].value_counts()"
   ]
  },
  {
   "cell_type": "markdown",
   "id": "50efd9fe-cfec-4ddd-8fe3-15340b259265",
   "metadata": {},
   "source": [
    "## 2. 计算句子向量\n",
    "\n",
    "下载 [bert-base-uncased](https://huggingface.co/google-bert/bert-base-uncased) 的模型文件：\n",
    "\n",
    "```bash\n",
    "conda install pytorch -y\n",
    "pip install -U huggingface_hub\n",
    "export HF_ENDPOINT=https://hf-mirror.com\n",
    "huggingface-cli download --resume-download bert-base-uncased --local-dir ./data/bert-base-uncased\n",
    "```"
   ]
  },
  {
   "cell_type": "code",
   "execution_count": 8,
   "id": "f2ae4bfc-8c9a-4c79-aa24-dfdb56137079",
   "metadata": {
    "execution": {
     "iopub.execute_input": "2024-09-09T18:05:46.458713Z",
     "iopub.status.busy": "2024-09-09T18:05:46.457715Z",
     "iopub.status.idle": "2024-09-09T18:05:46.736851Z",
     "shell.execute_reply": "2024-09-09T18:05:46.734839Z",
     "shell.execute_reply.started": "2024-09-09T18:05:46.458713Z"
    }
   },
   "outputs": [],
   "source": [
    "# 加载模型\n",
    "tokenizer = BertTokenizer.from_pretrained(EN_BERT_PATH)\n",
    "model = BertModel.from_pretrained(EN_BERT_PATH)"
   ]
  },
  {
   "cell_type": "code",
   "execution_count": 9,
   "id": "77d07826-64f3-41f9-9e97-23ed0d3021b1",
   "metadata": {
    "execution": {
     "iopub.execute_input": "2024-09-09T18:05:46.739153Z",
     "iopub.status.busy": "2024-09-09T18:05:46.738146Z",
     "iopub.status.idle": "2024-09-09T18:05:46.752051Z",
     "shell.execute_reply": "2024-09-09T18:05:46.750938Z",
     "shell.execute_reply.started": "2024-09-09T18:05:46.739153Z"
    },
    "tags": []
   },
   "outputs": [],
   "source": [
    "## 计算句子向量\n",
    "def get_avg_embeddings(corpus):\n",
    "    \"\"\"计算句子的平均嵌入\"\"\"\n",
    "    # 检查是否有可用的 CUDA 设备\n",
    "    device = torch.device(\"cuda\" if torch.cuda.is_available() else \"cpu\")\n",
    "    \n",
    "    # 将模型移动到设备上\n",
    "    model.to(device)\n",
    "\n",
    "    encoded_inputs = tokenizer(corpus,\n",
    "                               padding='max_length',\n",
    "                               truncation=True,\n",
    "                               return_tensors='pt')\n",
    "\n",
    "    # 将数据移动到设备上\n",
    "    encoded_inputs = {key: val.to(device) for key, val in encoded_inputs.items()}\n",
    "\n",
    "    with torch.no_grad():\n",
    "        outputs = model(**encoded_inputs)\n",
    "        embeddings = outputs.last_hidden_state.mean(dim=1)\n",
    "\n",
    "    # 将结果移动回 CPU\n",
    "    embeddings = embeddings.cpu()\n",
    "\n",
    "    return embeddings"
   ]
  },
  {
   "cell_type": "code",
   "execution_count": 10,
   "id": "3041454a-52a6-4ee0-b28b-26eea9ed529c",
   "metadata": {
    "execution": {
     "iopub.execute_input": "2024-09-09T18:05:46.760696Z",
     "iopub.status.busy": "2024-09-09T18:05:46.758689Z",
     "iopub.status.idle": "2024-09-09T18:07:28.728039Z",
     "shell.execute_reply": "2024-09-09T18:07:28.727028Z",
     "shell.execute_reply.started": "2024-09-09T18:05:46.760696Z"
    }
   },
   "outputs": [
    {
     "data": {
      "application/vnd.jupyter.widget-view+json": {
       "model_id": "700199b6c1ad4d3ea90c970582c25aed",
       "version_major": 2,
       "version_minor": 0
      },
      "text/plain": [
       "Pandas Apply:   0%|          | 0/2000 [00:00<?, ?it/s]"
      ]
     },
     "metadata": {},
     "output_type": "display_data"
    },
    {
     "data": {
      "text/html": [
       "<div>\n",
       "<style scoped>\n",
       "    .dataframe tbody tr th:only-of-type {\n",
       "        vertical-align: middle;\n",
       "    }\n",
       "\n",
       "    .dataframe tbody tr th {\n",
       "        vertical-align: top;\n",
       "    }\n",
       "\n",
       "    .dataframe thead th {\n",
       "        text-align: right;\n",
       "    }\n",
       "</style>\n",
       "<table border=\"1\" class=\"dataframe\">\n",
       "  <thead>\n",
       "    <tr style=\"text-align: right;\">\n",
       "      <th></th>\n",
       "      <th>review</th>\n",
       "      <th>sentiment</th>\n",
       "      <th>embedding</th>\n",
       "    </tr>\n",
       "  </thead>\n",
       "  <tbody>\n",
       "    <tr>\n",
       "      <th>0</th>\n",
       "      <td>One of the other reviewers has mentioned that ...</td>\n",
       "      <td>positive</td>\n",
       "      <td>[tensor(0.0721), tensor(-0.1312), tensor(0.238...</td>\n",
       "    </tr>\n",
       "    <tr>\n",
       "      <th>1</th>\n",
       "      <td>A wonderful little production. The filming tec...</td>\n",
       "      <td>positive</td>\n",
       "      <td>[tensor(-0.0297), tensor(0.0778), tensor(0.290...</td>\n",
       "    </tr>\n",
       "    <tr>\n",
       "      <th>2</th>\n",
       "      <td>I thought this was a wonderful way to spend ti...</td>\n",
       "      <td>positive</td>\n",
       "      <td>[tensor(-0.1714), tensor(-0.2612), tensor(0.25...</td>\n",
       "    </tr>\n",
       "    <tr>\n",
       "      <th>3</th>\n",
       "      <td>Basically there's a family where a little boy ...</td>\n",
       "      <td>negative</td>\n",
       "      <td>[tensor(0.1463), tensor(-0.1541), tensor(0.470...</td>\n",
       "    </tr>\n",
       "    <tr>\n",
       "      <th>4</th>\n",
       "      <td>Petter Mattei's \"Love in the Time of Money\" is...</td>\n",
       "      <td>positive</td>\n",
       "      <td>[tensor(-0.0845), tensor(0.0210), tensor(0.261...</td>\n",
       "    </tr>\n",
       "    <tr>\n",
       "      <th>...</th>\n",
       "      <td>...</td>\n",
       "      <td>...</td>\n",
       "      <td>...</td>\n",
       "    </tr>\n",
       "    <tr>\n",
       "      <th>1995</th>\n",
       "      <td>Feeling Minnesota, directed by Steven Baigelma...</td>\n",
       "      <td>negative</td>\n",
       "      <td>[tensor(-0.0170), tensor(-0.1145), tensor(0.36...</td>\n",
       "    </tr>\n",
       "    <tr>\n",
       "      <th>1996</th>\n",
       "      <td>THE CELL (2000) Rating: 8/10The Cell, like Ant...</td>\n",
       "      <td>positive</td>\n",
       "      <td>[tensor(-0.0171), tensor(-0.1769), tensor(0.25...</td>\n",
       "    </tr>\n",
       "    <tr>\n",
       "      <th>1997</th>\n",
       "      <td>This movie, despite its list of B, C, and D li...</td>\n",
       "      <td>negative</td>\n",
       "      <td>[tensor(0.0069), tensor(-0.1059), tensor(0.262...</td>\n",
       "    </tr>\n",
       "    <tr>\n",
       "      <th>1998</th>\n",
       "      <td>I loved this movie! It was all I could do not ...</td>\n",
       "      <td>positive</td>\n",
       "      <td>[tensor(-0.0570), tensor(-0.2813), tensor(0.37...</td>\n",
       "    </tr>\n",
       "    <tr>\n",
       "      <th>1999</th>\n",
       "      <td>This was the worst movie I have ever seen Bill...</td>\n",
       "      <td>negative</td>\n",
       "      <td>[tensor(-0.0310), tensor(-0.1145), tensor(0.22...</td>\n",
       "    </tr>\n",
       "  </tbody>\n",
       "</table>\n",
       "<p>2000 rows × 3 columns</p>\n",
       "</div>"
      ],
      "text/plain": [
       "                                                 review sentiment  \\\n",
       "0     One of the other reviewers has mentioned that ...  positive   \n",
       "1     A wonderful little production. The filming tec...  positive   \n",
       "2     I thought this was a wonderful way to spend ti...  positive   \n",
       "3     Basically there's a family where a little boy ...  negative   \n",
       "4     Petter Mattei's \"Love in the Time of Money\" is...  positive   \n",
       "...                                                 ...       ...   \n",
       "1995  Feeling Minnesota, directed by Steven Baigelma...  negative   \n",
       "1996  THE CELL (2000) Rating: 8/10The Cell, like Ant...  positive   \n",
       "1997  This movie, despite its list of B, C, and D li...  negative   \n",
       "1998  I loved this movie! It was all I could do not ...  positive   \n",
       "1999  This was the worst movie I have ever seen Bill...  negative   \n",
       "\n",
       "                                              embedding  \n",
       "0     [tensor(0.0721), tensor(-0.1312), tensor(0.238...  \n",
       "1     [tensor(-0.0297), tensor(0.0778), tensor(0.290...  \n",
       "2     [tensor(-0.1714), tensor(-0.2612), tensor(0.25...  \n",
       "3     [tensor(0.1463), tensor(-0.1541), tensor(0.470...  \n",
       "4     [tensor(-0.0845), tensor(0.0210), tensor(0.261...  \n",
       "...                                                 ...  \n",
       "1995  [tensor(-0.0170), tensor(-0.1145), tensor(0.36...  \n",
       "1996  [tensor(-0.0171), tensor(-0.1769), tensor(0.25...  \n",
       "1997  [tensor(0.0069), tensor(-0.1059), tensor(0.262...  \n",
       "1998  [tensor(-0.0570), tensor(-0.2813), tensor(0.37...  \n",
       "1999  [tensor(-0.0310), tensor(-0.1145), tensor(0.22...  \n",
       "\n",
       "[2000 rows x 3 columns]"
      ]
     },
     "execution_count": 10,
     "metadata": {},
     "output_type": "execute_result"
    }
   ],
   "source": [
    "# 为每个评论计算句子向量\n",
    "df_sample = df.head(2000).copy()\n",
    "df_sample['embedding'] = df_sample['review'].swifter.apply(lambda e: get_avg_embeddings(e)[0])\n",
    "df_sample"
   ]
  },
  {
   "cell_type": "code",
   "execution_count": 11,
   "id": "14c9e7e0-c048-467b-88ee-6feb2557d138",
   "metadata": {
    "execution": {
     "iopub.execute_input": "2024-09-09T18:07:28.732032Z",
     "iopub.status.busy": "2024-09-09T18:07:28.731032Z",
     "iopub.status.idle": "2024-09-09T18:07:32.802664Z",
     "shell.execute_reply": "2024-09-09T18:07:32.799656Z",
     "shell.execute_reply.started": "2024-09-09T18:07:28.732032Z"
    }
   },
   "outputs": [],
   "source": [
    "# 将结果存成 csv\n",
    "util.embedding_df_to_csv(df_sample,\n",
    "                         csv_path=EMBEDDING_CSV_FILE,\n",
    "                         ebd_cols=['embedding'])"
   ]
  },
  {
   "cell_type": "code",
   "execution_count": null,
   "id": "0d71cc5b-992a-42f8-b4a7-061d933aa337",
   "metadata": {},
   "outputs": [],
   "source": []
  }
 ],
 "metadata": {
  "kernelspec": {
   "display_name": "Python 3 (ipykernel)",
   "language": "python",
   "name": "python3"
  },
  "language_info": {
   "codemirror_mode": {
    "name": "ipython",
    "version": 3
   },
   "file_extension": ".py",
   "mimetype": "text/x-python",
   "name": "python",
   "nbconvert_exporter": "python",
   "pygments_lexer": "ipython3",
   "version": "3.12.3"
  }
 },
 "nbformat": 4,
 "nbformat_minor": 5
}
