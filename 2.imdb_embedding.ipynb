{
 "cells": [
  {
   "cell_type": "markdown",
   "id": "b535c06b-e8b5-4415-abb4-faf275309afe",
   "metadata": {},
   "source": [
    "# IMDB Reviews embedding\n",
    "\n",
    "将 IMDB 数据集中的电影评论转换成词向量，然后存在 `./data/imdb_embedding.csv`.\n",
    "\n",
    "Dataset: https://www.kaggle.com/datasets/lakshmi25npathi/imdb-dataset-of-50k-movie-reviews/data"
   ]
  },
  {
   "cell_type": "code",
   "execution_count": 2,
   "id": "defa6aa7-6891-43d3-ad95-327e7d9248b8",
   "metadata": {
    "execution": {
     "iopub.execute_input": "2024-07-01T14:04:55.512492Z",
     "iopub.status.busy": "2024-07-01T14:04:55.512012Z",
     "iopub.status.idle": "2024-07-01T14:04:55.518022Z",
     "shell.execute_reply": "2024-07-01T14:04:55.516865Z",
     "shell.execute_reply.started": "2024-07-01T14:04:55.512466Z"
    }
   },
   "outputs": [],
   "source": [
    "import re\n",
    "import torch\n",
    "import nltk\n",
    "import pandas as pd\n",
    "from bs4 import BeautifulSoup\n",
    "from transformers import BertModel, BertTokenizer\n",
    "\n",
    "import util"
   ]
  },
  {
   "cell_type": "code",
   "execution_count": 3,
   "id": "3994eaf3-6309-4a8b-a422-ef1d691d28c4",
   "metadata": {
    "execution": {
     "iopub.execute_input": "2024-07-01T14:04:57.953829Z",
     "iopub.status.busy": "2024-07-01T14:04:57.953514Z",
     "iopub.status.idle": "2024-07-01T14:04:57.958424Z",
     "shell.execute_reply": "2024-07-01T14:04:57.957674Z",
     "shell.execute_reply.started": "2024-07-01T14:04:57.953806Z"
    }
   },
   "outputs": [],
   "source": [
    "EN_BERT_PATH = './data/bert-base-uncased'\n",
    "IMDB_FILE = './data/IMDB Dataset.csv'\n",
    "EMBEDDING_CSV_FILE = './data/imdb_embedding.csv'"
   ]
  },
  {
   "cell_type": "markdown",
   "id": "b482c747-7e1c-4af5-8fe8-b82a7bc856b3",
   "metadata": {},
   "source": [
    "## 1. 文本预处理"
   ]
  },
  {
   "cell_type": "code",
   "execution_count": 4,
   "id": "90b15ab4-9f9c-4eb3-a3c1-68d4c545e65e",
   "metadata": {
    "execution": {
     "iopub.execute_input": "2024-07-01T14:04:59.366356Z",
     "iopub.status.busy": "2024-07-01T14:04:59.365884Z",
     "iopub.status.idle": "2024-07-01T14:04:59.943563Z",
     "shell.execute_reply": "2024-07-01T14:04:59.942443Z",
     "shell.execute_reply.started": "2024-07-01T14:04:59.366327Z"
    }
   },
   "outputs": [
    {
     "data": {
      "text/html": [
       "<div>\n",
       "<style scoped>\n",
       "    .dataframe tbody tr th:only-of-type {\n",
       "        vertical-align: middle;\n",
       "    }\n",
       "\n",
       "    .dataframe tbody tr th {\n",
       "        vertical-align: top;\n",
       "    }\n",
       "\n",
       "    .dataframe thead th {\n",
       "        text-align: right;\n",
       "    }\n",
       "</style>\n",
       "<table border=\"1\" class=\"dataframe\">\n",
       "  <thead>\n",
       "    <tr style=\"text-align: right;\">\n",
       "      <th></th>\n",
       "      <th>review</th>\n",
       "      <th>sentiment</th>\n",
       "    </tr>\n",
       "  </thead>\n",
       "  <tbody>\n",
       "    <tr>\n",
       "      <th>0</th>\n",
       "      <td>One of the other reviewers has mentioned that ...</td>\n",
       "      <td>positive</td>\n",
       "    </tr>\n",
       "    <tr>\n",
       "      <th>1</th>\n",
       "      <td>A wonderful little production. &lt;br /&gt;&lt;br /&gt;The...</td>\n",
       "      <td>positive</td>\n",
       "    </tr>\n",
       "    <tr>\n",
       "      <th>2</th>\n",
       "      <td>I thought this was a wonderful way to spend ti...</td>\n",
       "      <td>positive</td>\n",
       "    </tr>\n",
       "    <tr>\n",
       "      <th>3</th>\n",
       "      <td>Basically there's a family where a little boy ...</td>\n",
       "      <td>negative</td>\n",
       "    </tr>\n",
       "    <tr>\n",
       "      <th>4</th>\n",
       "      <td>Petter Mattei's \"Love in the Time of Money\" is...</td>\n",
       "      <td>positive</td>\n",
       "    </tr>\n",
       "    <tr>\n",
       "      <th>...</th>\n",
       "      <td>...</td>\n",
       "      <td>...</td>\n",
       "    </tr>\n",
       "    <tr>\n",
       "      <th>49995</th>\n",
       "      <td>I thought this movie did a down right good job...</td>\n",
       "      <td>positive</td>\n",
       "    </tr>\n",
       "    <tr>\n",
       "      <th>49996</th>\n",
       "      <td>Bad plot, bad dialogue, bad acting, idiotic di...</td>\n",
       "      <td>negative</td>\n",
       "    </tr>\n",
       "    <tr>\n",
       "      <th>49997</th>\n",
       "      <td>I am a Catholic taught in parochial elementary...</td>\n",
       "      <td>negative</td>\n",
       "    </tr>\n",
       "    <tr>\n",
       "      <th>49998</th>\n",
       "      <td>I'm going to have to disagree with the previou...</td>\n",
       "      <td>negative</td>\n",
       "    </tr>\n",
       "    <tr>\n",
       "      <th>49999</th>\n",
       "      <td>No one expects the Star Trek movies to be high...</td>\n",
       "      <td>negative</td>\n",
       "    </tr>\n",
       "  </tbody>\n",
       "</table>\n",
       "<p>50000 rows × 2 columns</p>\n",
       "</div>"
      ],
      "text/plain": [
       "                                                  review sentiment\n",
       "0      One of the other reviewers has mentioned that ...  positive\n",
       "1      A wonderful little production. <br /><br />The...  positive\n",
       "2      I thought this was a wonderful way to spend ti...  positive\n",
       "3      Basically there's a family where a little boy ...  negative\n",
       "4      Petter Mattei's \"Love in the Time of Money\" is...  positive\n",
       "...                                                  ...       ...\n",
       "49995  I thought this movie did a down right good job...  positive\n",
       "49996  Bad plot, bad dialogue, bad acting, idiotic di...  negative\n",
       "49997  I am a Catholic taught in parochial elementary...  negative\n",
       "49998  I'm going to have to disagree with the previou...  negative\n",
       "49999  No one expects the Star Trek movies to be high...  negative\n",
       "\n",
       "[50000 rows x 2 columns]"
      ]
     },
     "execution_count": 4,
     "metadata": {},
     "output_type": "execute_result"
    }
   ],
   "source": [
    "df = pd.read_csv(IMDB_FILE)\n",
    "df"
   ]
  },
  {
   "cell_type": "code",
   "execution_count": 6,
   "id": "2324ee5b-3c94-4f77-9100-73015449e27e",
   "metadata": {
    "execution": {
     "iopub.execute_input": "2024-07-01T14:05:13.526578Z",
     "iopub.status.busy": "2024-07-01T14:05:13.526147Z",
     "iopub.status.idle": "2024-07-01T14:05:19.858917Z",
     "shell.execute_reply": "2024-07-01T14:05:19.857859Z",
     "shell.execute_reply.started": "2024-07-01T14:05:13.526548Z"
    }
   },
   "outputs": [
    {
     "name": "stderr",
     "output_type": "stream",
     "text": [
      "/var/folders/97/m67m_56s0dq5k20t3vp4_pgh0000gn/T/ipykernel_59990/2806192231.py:3: MarkupResemblesLocatorWarning: The input looks more like a filename than markup. You may want to open this file and pass the filehandle into Beautiful Soup.\n",
      "  soup = BeautifulSoup(text, \"html.parser\")\n"
     ]
    },
    {
     "data": {
      "text/plain": [
       "0        One of the other reviewers has mentioned that ...\n",
       "1        A wonderful little production. The filming tec...\n",
       "2        I thought this was a wonderful way to spend ti...\n",
       "3        Basically there's a family where a little boy ...\n",
       "4        Petter Mattei's \"Love in the Time of Money\" is...\n",
       "                               ...                        \n",
       "49995    I thought this movie did a down right good job...\n",
       "49996    Bad plot, bad dialogue, bad acting, idiotic di...\n",
       "49997    I am a Catholic taught in parochial elementary...\n",
       "49998    I'm going to have to disagree with the previou...\n",
       "49999    No one expects the Star Trek movies to be high...\n",
       "Name: review, Length: 50000, dtype: object"
      ]
     },
     "execution_count": 6,
     "metadata": {},
     "output_type": "execute_result"
    }
   ],
   "source": [
    "# 去除 html 标签\n",
    "def remove_html_label(text):\n",
    "    soup = BeautifulSoup(text, \"html.parser\")\n",
    "    return soup.get_text()\n",
    "\n",
    "df['review'] = df['review'].apply(remove_html_label)\n",
    "df['review']"
   ]
  },
  {
   "cell_type": "code",
   "execution_count": 7,
   "id": "d9d7ee6d-9d49-4fdf-af05-a151feb8518b",
   "metadata": {
    "execution": {
     "iopub.execute_input": "2024-07-01T14:05:20.412917Z",
     "iopub.status.busy": "2024-07-01T14:05:20.412574Z",
     "iopub.status.idle": "2024-07-01T14:05:20.528951Z",
     "shell.execute_reply": "2024-07-01T14:05:20.527685Z",
     "shell.execute_reply.started": "2024-07-01T14:05:20.412892Z"
    }
   },
   "outputs": [
    {
     "data": {
      "text/html": [
       "<div>\n",
       "<style scoped>\n",
       "    .dataframe tbody tr th:only-of-type {\n",
       "        vertical-align: middle;\n",
       "    }\n",
       "\n",
       "    .dataframe tbody tr th {\n",
       "        vertical-align: top;\n",
       "    }\n",
       "\n",
       "    .dataframe thead th {\n",
       "        text-align: right;\n",
       "    }\n",
       "</style>\n",
       "<table border=\"1\" class=\"dataframe\">\n",
       "  <thead>\n",
       "    <tr style=\"text-align: right;\">\n",
       "      <th></th>\n",
       "      <th>review</th>\n",
       "      <th>sentiment</th>\n",
       "    </tr>\n",
       "  </thead>\n",
       "  <tbody>\n",
       "    <tr>\n",
       "      <th>count</th>\n",
       "      <td>50000</td>\n",
       "      <td>50000</td>\n",
       "    </tr>\n",
       "    <tr>\n",
       "      <th>unique</th>\n",
       "      <td>49581</td>\n",
       "      <td>2</td>\n",
       "    </tr>\n",
       "    <tr>\n",
       "      <th>top</th>\n",
       "      <td>Loved today's show!!! It was a variety and not...</td>\n",
       "      <td>positive</td>\n",
       "    </tr>\n",
       "    <tr>\n",
       "      <th>freq</th>\n",
       "      <td>5</td>\n",
       "      <td>25000</td>\n",
       "    </tr>\n",
       "  </tbody>\n",
       "</table>\n",
       "</div>"
      ],
      "text/plain": [
       "                                                   review sentiment\n",
       "count                                               50000     50000\n",
       "unique                                              49581         2\n",
       "top     Loved today's show!!! It was a variety and not...  positive\n",
       "freq                                                    5     25000"
      ]
     },
     "execution_count": 7,
     "metadata": {},
     "output_type": "execute_result"
    }
   ],
   "source": [
    "df.describe()"
   ]
  },
  {
   "cell_type": "code",
   "execution_count": 8,
   "id": "a34cb60f-583e-40b4-8ca6-e7e94228fa7b",
   "metadata": {
    "execution": {
     "iopub.execute_input": "2024-07-01T14:05:21.685074Z",
     "iopub.status.busy": "2024-07-01T14:05:21.684672Z",
     "iopub.status.idle": "2024-07-01T14:05:21.695077Z",
     "shell.execute_reply": "2024-07-01T14:05:21.693142Z",
     "shell.execute_reply.started": "2024-07-01T14:05:21.685053Z"
    }
   },
   "outputs": [
    {
     "data": {
      "text/plain": [
       "sentiment\n",
       "positive    25000\n",
       "negative    25000\n",
       "Name: count, dtype: int64"
      ]
     },
     "execution_count": 8,
     "metadata": {},
     "output_type": "execute_result"
    }
   ],
   "source": [
    "df['sentiment'].value_counts()"
   ]
  },
  {
   "cell_type": "markdown",
   "id": "50efd9fe-cfec-4ddd-8fe3-15340b259265",
   "metadata": {},
   "source": [
    "## 2. 计算句子向量\n",
    "\n",
    "下载 [bert-base-uncased](https://huggingface.co/google-bert/bert-base-uncased) 的模型文件：\n",
    "\n",
    "```bash\n",
    "conda install pytorch -y\n",
    "pip install -U huggingface_hub\n",
    "export HF_ENDPOINT=https://hf-mirror.com\n",
    "huggingface-cli download --resume-download bert-base-uncased --local-dir ./data/bert-base-uncased\n",
    "```"
   ]
  },
  {
   "cell_type": "code",
   "execution_count": null,
   "id": "f2ae4bfc-8c9a-4c79-aa24-dfdb56137079",
   "metadata": {},
   "outputs": [],
   "source": [
    "# 加载模型\n",
    "tokenizer = BertTokenizer.from_pretrained(EN_BERT_PATH)\n",
    "model = BertModel.from_pretrained(EN_BERT_PATH)"
   ]
  },
  {
   "cell_type": "markdown",
   "id": "d4f98b7d-42e9-4a10-86bc-b155ab695cf8",
   "metadata": {},
   "source": [
    "## 计算句子向量\n",
    "def get_avg_embeddings(sentences):\n",
    "    \"\"\"计算句子的平均嵌入\"\"\"\n",
    "    encoded_inputs = tokenizer(corpus, return_tensors='pt')\n",
    "    with torch.no_grad():\n",
    "        outputs = model(**encoded_inputs)\n",
    "        embeddings = outputs.last_hidden_state.mean(dim=1)\n",
    "\n",
    "    return embeddings"
   ]
  },
  {
   "cell_type": "code",
   "execution_count": null,
   "id": "3041454a-52a6-4ee0-b28b-26eea9ed529c",
   "metadata": {},
   "outputs": [],
   "source": [
    "# 为每个评论计算句子向量\n",
    "df['embedding'] = df['review'].apply(get_avg_embeddings)\n",
    "df"
   ]
  },
  {
   "cell_type": "code",
   "execution_count": null,
   "id": "14c9e7e0-c048-467b-88ee-6feb2557d138",
   "metadata": {},
   "outputs": [],
   "source": [
    "# 将结果存成 csv\n",
    "util.embedding_df_to_csv(df,\n",
    "                         csv_path=EMBEDDING_CSV_FILE,\n",
    "                         ebd_cols=['embedding'])"
   ]
  },
  {
   "cell_type": "code",
   "execution_count": null,
   "id": "0d71cc5b-992a-42f8-b4a7-061d933aa337",
   "metadata": {},
   "outputs": [],
   "source": []
  }
 ],
 "metadata": {
  "kernelspec": {
   "display_name": "Python 3 (ipykernel)",
   "language": "python",
   "name": "python3"
  },
  "language_info": {
   "codemirror_mode": {
    "name": "ipython",
    "version": 3
   },
   "file_extension": ".py",
   "mimetype": "text/x-python",
   "name": "python",
   "nbconvert_exporter": "python",
   "pygments_lexer": "ipython3",
   "version": "3.10.14"
  }
 },
 "nbformat": 4,
 "nbformat_minor": 5
}
